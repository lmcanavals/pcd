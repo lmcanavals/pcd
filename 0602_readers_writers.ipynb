{
  "nbformat": 4,
  "nbformat_minor": 0,
  "metadata": {
    "colab": {
      "name": "0602-readers-writers.ipynb",
      "provenance": [],
      "authorship_tag": "ABX9TyNdGYWwLISrqEHRqS2JT4RQ",
      "include_colab_link": true
    },
    "kernelspec": {
      "name": "python3",
      "display_name": "Python 3"
    },
    "language_info": {
      "name": "python"
    }
  },
  "cells": [
    {
      "cell_type": "markdown",
      "metadata": {
        "id": "view-in-github",
        "colab_type": "text"
      },
      "source": [
        "<a href=\"https://colab.research.google.com/github/lmcanavals/pcd/blob/master/0602_readers_writers.ipynb\" target=\"_parent\"><img src=\"https://colab.research.google.com/assets/colab-badge.svg\" alt=\"Open In Colab\"/></a>"
      ]
    },
    {
      "cell_type": "code",
      "execution_count": 1,
      "metadata": {
        "colab": {
          "base_uri": "https://localhost:8080/"
        },
        "id": "ATCYUQwESJi2",
        "outputId": "381f12db-1f6a-47d4-8a6a-54978ecc6d6b"
      },
      "outputs": [
        {
          "output_type": "stream",
          "name": "stdout",
          "text": [
            "Reading package lists... Done\n",
            "Building dependency tree       \n",
            "Reading state information... Done\n",
            "The following packages were automatically installed and are no longer required:\n",
            "  libnvidia-common-460 nsight-compute-2020.2.0\n",
            "Use 'sudo apt autoremove' to remove them.\n",
            "The following NEW packages will be installed:\n",
            "  spin\n",
            "0 upgraded, 1 newly installed, 0 to remove and 42 not upgraded.\n",
            "Need to get 559 kB of archives.\n",
            "After this operation, 1,776 kB of additional disk space will be used.\n",
            "Get:1 http://archive.ubuntu.com/ubuntu bionic/universe amd64 spin amd64 6.4.6+dfsg-2 [559 kB]\n",
            "Fetched 559 kB in 1s (712 kB/s)\n",
            "debconf: unable to initialize frontend: Dialog\n",
            "debconf: (No usable dialog-like program is installed, so the dialog based frontend cannot be used. at /usr/share/perl5/Debconf/FrontEnd/Dialog.pm line 76, <> line 1.)\n",
            "debconf: falling back to frontend: Readline\n",
            "debconf: unable to initialize frontend: Readline\n",
            "debconf: (This frontend requires a controlling tty.)\n",
            "debconf: falling back to frontend: Teletype\n",
            "dpkg-preconfigure: unable to re-open stdin: \n",
            "Selecting previously unselected package spin.\n",
            "(Reading database ... 155202 files and directories currently installed.)\n",
            "Preparing to unpack .../spin_6.4.6+dfsg-2_amd64.deb ...\n",
            "Unpacking spin (6.4.6+dfsg-2) ...\n",
            "Setting up spin (6.4.6+dfsg-2) ...\n",
            "Processing triggers for man-db (2.8.3-2ubuntu0.1) ...\n"
          ]
        }
      ],
      "source": [
        "!sudo apt install spin"
      ]
    },
    {
      "cell_type": "code",
      "source": [
        "%%file rw.pml\n",
        "#define wait(s) atomic { s > 0 -> s-- }\n",
        "#define signal(s) s++\n",
        "\n",
        "byte mutex1 = 1\n",
        "byte mutex2 = 1\n",
        "\n",
        "byte numReaders = 0\n",
        "byte numWriters = 0\n",
        "\n",
        "active[2] proctype Writer() {\n",
        "    do\n",
        "    ::\n",
        "      wait(mutex1)\n",
        "      // write\n",
        "      numWriters++\n",
        "      assert numWriters <= 1\n",
        "      assert numReaders == 0\n",
        "      numWriters--\n",
        "      signal(mutex1)\n",
        "    od\n",
        "}\n",
        "\n",
        "active[5] proctype Reader() {\n",
        "    do\n",
        "    ::\n",
        "      wait(mutex2)\n",
        "      if\n",
        "      :: numReaders == 0 -> wait(mutex1)\n",
        "      :: else -> skip\n",
        "      fi\n",
        "      numReaders++\n",
        "      signal(mutex2)\n",
        "\n",
        "      // reading\n",
        "      assert numWriters == 0\n",
        "\n",
        "      wait(mutex2)\n",
        "      numReaders--\n",
        "      if\n",
        "      :: numReaders == 0 -> signal(mutex1)\n",
        "      :: else -> skip\n",
        "      fi\n",
        "      signal(mutex2)\n",
        "\n",
        "    od\n",
        "}"
      ],
      "metadata": {
        "colab": {
          "base_uri": "https://localhost:8080/"
        },
        "id": "GsBhTFvHSPId",
        "outputId": "14038ded-729a-4474-e5dd-d1e152946ebf"
      },
      "execution_count": 10,
      "outputs": [
        {
          "output_type": "stream",
          "name": "stdout",
          "text": [
            "Overwriting rw.pml\n"
          ]
        }
      ]
    },
    {
      "cell_type": "code",
      "source": [
        "%%bash\n",
        "spin -a rw.pml && gcc pan.c && ./a.out\n",
        "[ -f rw.pml.trail ] && spin -t rw.pml && rm *.trail"
      ],
      "metadata": {
        "colab": {
          "base_uri": "https://localhost:8080/"
        },
        "id": "M7-Biz3jUeZW",
        "outputId": "f14579e1-9150-4400-8abb-c1c8646167fa"
      },
      "execution_count": 11,
      "outputs": [
        {
          "output_type": "stream",
          "name": "stdout",
          "text": [
            "\n",
            "(Spin Version 6.4.6 -- 2 December 2016)\n",
            "\t+ Partial Order Reduction\n",
            "\n",
            "Full statespace search for:\n",
            "\tnever claim         \t- (none specified)\n",
            "\tassertion violations\t+\n",
            "\tacceptance   cycles \t- (not selected)\n",
            "\tinvalid end states\t+\n",
            "\n",
            "State-vector 68 byte, depth reached 1221, errors: 0\n",
            "     3643 states, stored\n",
            "     4398 states, matched\n",
            "     8041 transitions (= stored+matched)\n",
            "        0 atomic steps\n",
            "hash conflicts:        55 (resolved)\n",
            "\n",
            "Stats on memory usage (in Megabytes):\n",
            "    0.334\tequivalent memory usage for states (stored*(State-vector + overhead))\n",
            "    0.386\tactual memory usage for states\n",
            "  128.000\tmemory used for hash table (-w24)\n",
            "    0.534\tmemory used for DFS stack (-m10000)\n",
            "  128.827\ttotal actual memory usage\n",
            "\n",
            "\n",
            "unreached in proctype Writer\n",
            "\trw.pml:21, state 12, \"-end-\"\n",
            "\t(1 of 12 states)\n",
            "unreached in proctype Reader\n",
            "\trw.pml:46, state 29, \"-end-\"\n",
            "\t(1 of 29 states)\n",
            "\n",
            "pan: elapsed time 0 seconds\n"
          ]
        }
      ]
    },
    {
      "cell_type": "code",
      "source": [
        ""
      ],
      "metadata": {
        "id": "DKYzgK4AUsKF"
      },
      "execution_count": null,
      "outputs": []
    }
  ]
}