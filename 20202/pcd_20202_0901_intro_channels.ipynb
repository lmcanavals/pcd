{
  "nbformat": 4,
  "nbformat_minor": 0,
  "metadata": {
    "colab": {
      "name": "pcd 20202 0901 intro channels.ipynb",
      "provenance": [],
      "authorship_tag": "ABX9TyNeujIrCa4Wsv6dPQwHQHtX",
      "include_colab_link": true
    },
    "kernelspec": {
      "name": "python3",
      "display_name": "Python 3"
    }
  },
  "cells": [
    {
      "cell_type": "markdown",
      "metadata": {
        "id": "view-in-github",
        "colab_type": "text"
      },
      "source": [
        "<a href=\"https://colab.research.google.com/github/pcsilcan/pcd/blob/master/20202/pcd_20202_0901_intro_channels.ipynb\" target=\"_parent\"><img src=\"https://colab.research.google.com/assets/colab-badge.svg\" alt=\"Open In Colab\"/></a>"
      ]
    },
    {
      "cell_type": "markdown",
      "metadata": {
        "id": "aFTtUOzjZ8zn"
      },
      "source": [
        "# Channels!\n",
        "\n",
        "Un proceso debe escribir y un proceso distinto debe leer. Un canal Síncrono, no puede ser leido y escrito al mismo tiempo por un solo proceso."
      ]
    },
    {
      "cell_type": "code",
      "metadata": {
        "id": "Y9Ex3b7eZ4mp",
        "outputId": "f9c2d156-fcb4-46ad-f2ae-cca19ba1f0e2",
        "colab": {
          "base_uri": "https://localhost:8080/",
          "height": 34
        }
      },
      "source": [
        "%%writefile 1.go\n",
        "package main\n",
        "\n",
        "import (\n",
        "    \"fmt\"\n",
        ")\n",
        "\n",
        "func main() {\n",
        "    var ch chan string\n",
        "    ch = make(chan string)\n",
        "\n",
        "    go func() {\n",
        "        ch<- \"Hola, Mundo canalizado!\"\n",
        "    }()\n",
        "\n",
        "    str := <-ch\n",
        "    fmt.Printf(\"Mensaje: %s\\n\", str)\n",
        "}"
      ],
      "execution_count": 1,
      "outputs": [
        {
          "output_type": "stream",
          "text": [
            "Writing 1.go\n"
          ],
          "name": "stdout"
        }
      ]
    },
    {
      "cell_type": "code",
      "metadata": {
        "id": "jFkB1lHrbWAb",
        "outputId": "0f58a139-3f35-4592-d1f9-9573eb602efd",
        "colab": {
          "base_uri": "https://localhost:8080/",
          "height": 34
        }
      },
      "source": [
        "!go run 1.go"
      ],
      "execution_count": 4,
      "outputs": [
        {
          "output_type": "stream",
          "text": [
            "Mensaje: Hola, Mundo canalizado!\n"
          ],
          "name": "stdout"
        }
      ]
    },
    {
      "cell_type": "code",
      "metadata": {
        "id": "r7xkFQ92bYUZ",
        "outputId": "ab49b1fa-15a8-4baa-d40d-0c690c53c257",
        "colab": {
          "base_uri": "https://localhost:8080/",
          "height": 34
        }
      },
      "source": [
        "%%writefile 2.go\n",
        "package main\n",
        "\n",
        "import (\n",
        "    \"fmt\"\n",
        "    \"math/rand\"\n",
        "    \"time\"\n",
        ")\n",
        "\n",
        "func rng(id, n int, ch chan string) {\n",
        "    for i := 0; i < n; i++ {\n",
        "        time.Sleep(time.Millisecond)\n",
        "        num := rand.Intn(100)\n",
        "        ch <- fmt.Sprintf(\"pid=%d\\ti=%d\\tnumber=%d\", id, i, num);\n",
        "    }\n",
        "}\n",
        "\n",
        "func main() {\n",
        "    rand.Seed(time.Now().UTC().UnixNano())\n",
        "    var ch chan string\n",
        "    ch = make(chan string)\n",
        "\n",
        "    n1, n2 := 11, 14\n",
        "    go rng(1, n1, ch)\n",
        "    go rng(2, n2, ch)\n",
        "\n",
        "    for i := 0; i < n1+n2; i++ {\n",
        "        fmt.Printf(\"Mensaje: %s\\n\", <-ch)\n",
        "    }\n",
        "}"
      ],
      "execution_count": 17,
      "outputs": [
        {
          "output_type": "stream",
          "text": [
            "Overwriting 2.go\n"
          ],
          "name": "stdout"
        }
      ]
    },
    {
      "cell_type": "code",
      "metadata": {
        "id": "sCgftkFZbbWV",
        "outputId": "648ccba8-1dc0-4750-db5d-0f7609674c7c",
        "colab": {
          "base_uri": "https://localhost:8080/",
          "height": 437
        }
      },
      "source": [
        "!go run 2.go"
      ],
      "execution_count": 18,
      "outputs": [
        {
          "output_type": "stream",
          "text": [
            "Mensaje: pid=1\ti=0\tnumber=89\n",
            "Mensaje: pid=2\ti=0\tnumber=18\n",
            "Mensaje: pid=1\ti=1\tnumber=92\n",
            "Mensaje: pid=2\ti=1\tnumber=91\n",
            "Mensaje: pid=1\ti=2\tnumber=47\n",
            "Mensaje: pid=2\ti=2\tnumber=46\n",
            "Mensaje: pid=1\ti=3\tnumber=4\n",
            "Mensaje: pid=2\ti=3\tnumber=63\n",
            "Mensaje: pid=2\ti=4\tnumber=55\n",
            "Mensaje: pid=1\ti=4\tnumber=20\n",
            "Mensaje: pid=1\ti=5\tnumber=84\n",
            "Mensaje: pid=2\ti=5\tnumber=90\n",
            "Mensaje: pid=2\ti=6\tnumber=55\n",
            "Mensaje: pid=1\ti=6\tnumber=47\n",
            "Mensaje: pid=1\ti=7\tnumber=57\n",
            "Mensaje: pid=2\ti=7\tnumber=4\n",
            "Mensaje: pid=2\ti=8\tnumber=48\n",
            "Mensaje: pid=1\ti=8\tnumber=43\n",
            "Mensaje: pid=1\ti=9\tnumber=95\n",
            "Mensaje: pid=2\ti=9\tnumber=2\n",
            "Mensaje: pid=2\ti=10\tnumber=59\n",
            "Mensaje: pid=1\ti=10\tnumber=64\n",
            "Mensaje: pid=2\ti=11\tnumber=72\n",
            "Mensaje: pid=2\ti=12\tnumber=90\n",
            "Mensaje: pid=2\ti=13\tnumber=57\n"
          ],
          "name": "stdout"
        }
      ]
    },
    {
      "cell_type": "code",
      "metadata": {
        "id": "FJCMb24reaom",
        "outputId": "2b6d9204-e8b8-4d05-eb43-72a7f80673f6",
        "colab": {
          "base_uri": "https://localhost:8080/",
          "height": 34
        }
      },
      "source": [
        "%%writefile 3.go\n",
        "package main\n",
        "\n",
        "import (\n",
        "    \"fmt\"\n",
        "    \"math/rand\"\n",
        "    \"time\"\n",
        ")\n",
        "\n",
        "func rng(id, n int, ch chan string) {\n",
        "    for i := 0; i < n; i++ {\n",
        "        time.Sleep(time.Millisecond)\n",
        "        num := rand.Intn(100)\n",
        "        ch <- fmt.Sprintf(\"pid=%d\\ti=%d\\tnumber=%d\", id, i, num);\n",
        "    }\n",
        "    close(ch)\n",
        "}\n",
        "\n",
        "func main() {\n",
        "    rand.Seed(time.Now().UTC().UnixNano())\n",
        "    var ch1, ch2 chan string\n",
        "    ch1 = make(chan string)\n",
        "    ch2 = make(chan string)\n",
        "\n",
        "    n1, n2 := 11, 14\n",
        "    go rng(1, n1, ch1)\n",
        "    go rng(2, n2, ch2)\n",
        "\n",
        "    go func() {\n",
        "        for msg := range ch1 {\n",
        "            fmt.Printf(\"Mensaje: %s\\n\", msg)\n",
        "        }\n",
        "    }()\n",
        "    \n",
        "    for msg := range ch2 {\n",
        "        fmt.Printf(\"Mensaje: %s\\n\", msg)\n",
        "    }\n",
        "}"
      ],
      "execution_count": 27,
      "outputs": [
        {
          "output_type": "stream",
          "text": [
            "Overwriting 3.go\n"
          ],
          "name": "stdout"
        }
      ]
    },
    {
      "cell_type": "code",
      "metadata": {
        "id": "tSoRsG42hCtQ",
        "outputId": "86aee924-3ee8-41bf-f914-b6ba1ffdffea",
        "colab": {
          "base_uri": "https://localhost:8080/",
          "height": 638
        }
      },
      "source": [
        "!go run 3.go"
      ],
      "execution_count": 28,
      "outputs": [
        {
          "output_type": "stream",
          "text": [
            "Mensaje: pid=1\ti=0\tnumber=70\n",
            "Mensaje: pid=2\ti=0\tnumber=36\n",
            "Mensaje: pid=1\ti=1\tnumber=71\n",
            "Mensaje: pid=2\ti=1\tnumber=28\n",
            "Mensaje: pid=1\ti=2\tnumber=4\n",
            "Mensaje: pid=2\ti=2\tnumber=47\n",
            "Mensaje: pid=1\ti=3\tnumber=18\n",
            "Mensaje: pid=2\ti=3\tnumber=70\n",
            "Mensaje: pid=1\ti=4\tnumber=93\n",
            "Mensaje: pid=2\ti=4\tnumber=82\n",
            "Mensaje: pid=1\ti=5\tnumber=19\n",
            "Mensaje: pid=2\ti=5\tnumber=77\n",
            "Mensaje: pid=1\ti=6\tnumber=71\n",
            "Mensaje: pid=2\ti=6\tnumber=78\n",
            "Mensaje: pid=1\ti=7\tnumber=11\n",
            "Mensaje: pid=2\ti=7\tnumber=25\n",
            "Mensaje: pid=1\ti=8\tnumber=0\n",
            "Mensaje: pid=2\ti=8\tnumber=19\n",
            "Mensaje: pid=1\ti=9\tnumber=8\n",
            "Mensaje: pid=2\ti=9\tnumber=73\n",
            "Mensaje: pid=1\ti=10\tnumber=85\n",
            "Mensaje: pid=2\ti=10\tnumber=74\n",
            "Mensaje: pid=2\ti=11\tnumber=72\n",
            "Mensaje: pid=2\ti=12\tnumber=9\n",
            "Mensaje: pid=2\ti=13\tnumber=92\n",
            "fatal error: all goroutines are asleep - deadlock!\n",
            "\n",
            "goroutine 1 [chan receive]:\n",
            "main.main()\n",
            "\t/content/3.go:33 +0x2b4\n",
            "\n",
            "goroutine 20 [chan receive]:\n",
            "main.main.func1(0xc420064060)\n",
            "\t/content/3.go:28 +0xcd\n",
            "created by main.main\n",
            "\t/content/3.go:27 +0x20b\n",
            "exit status 2\n"
          ],
          "name": "stdout"
        }
      ]
    },
    {
      "cell_type": "code",
      "metadata": {
        "id": "mDgx-SwFhZAX"
      },
      "source": [
        ""
      ],
      "execution_count": null,
      "outputs": []
    }
  ]
}