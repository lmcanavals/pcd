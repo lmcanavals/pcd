{
  "nbformat": 4,
  "nbformat_minor": 0,
  "metadata": {
    "colab": {
      "name": "pcd 20202  111 client server.ipynb",
      "provenance": [],
      "authorship_tag": "ABX9TyOs+Tgfk3mU5lTxkwsSmg9H",
      "include_colab_link": true
    },
    "kernelspec": {
      "name": "python3",
      "display_name": "Python 3"
    }
  },
  "cells": [
    {
      "cell_type": "markdown",
      "metadata": {
        "id": "view-in-github",
        "colab_type": "text"
      },
      "source": [
        "<a href=\"https://colab.research.google.com/github/pcsilcan/pcd/blob/master/20202/pcd_20202_111_client_server.ipynb\" target=\"_parent\"><img src=\"https://colab.research.google.com/assets/colab-badge.svg\" alt=\"Open In Colab\"/></a>"
      ]
    },
    {
      "cell_type": "markdown",
      "metadata": {
        "id": "6ogfKnNCcMkB"
      },
      "source": [
        "# Aplicaciones distribuidas"
      ]
    },
    {
      "cell_type": "code",
      "metadata": {
        "id": "FU7X0jEob_96",
        "outputId": "71a5cc63-1802-4bcf-c4c1-e125f99d775e",
        "colab": {
          "base_uri": "https://localhost:8080/"
        }
      },
      "source": [
        "!apt install golang-go 1>/dev/null && go version"
      ],
      "execution_count": 2,
      "outputs": [
        {
          "output_type": "stream",
          "text": [
            "go version go1.10.4 linux/amd64\n"
          ],
          "name": "stdout"
        }
      ]
    },
    {
      "cell_type": "code",
      "metadata": {
        "id": "-2qY0lxlccv2",
        "outputId": "c011769b-232f-4008-8c32-38ceb5a74609",
        "colab": {
          "base_uri": "https://localhost:8080/"
        }
      },
      "source": [
        "%%writefile serv.go\n",
        "package main\n",
        "\n",
        "import (\n",
        "    \"bufio\"\n",
        "    \"fmt\"\n",
        "    \"net\"\n",
        ")\n",
        "\n",
        "func main() {\n",
        "    ln, _ := net.Listen(\"tcp\", \"localhost:8000\")\n",
        "    defer ln.Close()\n",
        "    con, _ := ln.Accept()\n",
        "    defer con.Close()\n",
        "\n",
        "    r := bufio.NewReader(con)\n",
        "    msg, _ := r.ReadString('\\n')\n",
        "    fmt.Println(msg)\n",
        "}"
      ],
      "execution_count": 6,
      "outputs": [
        {
          "output_type": "stream",
          "text": [
            "Overwriting serv.go\n"
          ],
          "name": "stdout"
        }
      ]
    },
    {
      "cell_type": "code",
      "metadata": {
        "id": "yhPLILhRhICc",
        "outputId": "50fb5c4b-2b67-48a9-82a0-855ba4e0e9ea",
        "colab": {
          "base_uri": "https://localhost:8080/"
        }
      },
      "source": [
        "%%writefile cli.go\n",
        "package main\n",
        "\n",
        "import (\n",
        "    \"fmt\"\n",
        "    \"net\"\n",
        ")\n",
        "\n",
        "func main() {\n",
        "    con, _ := net.Dial(\"tcp\", \"localhost:8000\")\n",
        "    defer con.Close()\n",
        "\n",
        "    fmt.Fprintln(con, \"Hola, soy un cliente 😲\")\n",
        "}"
      ],
      "execution_count": 7,
      "outputs": [
        {
          "output_type": "stream",
          "text": [
            "Writing cli.go\n"
          ],
          "name": "stdout"
        }
      ]
    },
    {
      "cell_type": "code",
      "metadata": {
        "id": "748UR73rh7PA",
        "outputId": "485d7554-6ae3-465a-e567-96692177efe6",
        "colab": {
          "base_uri": "https://localhost:8080/"
        }
      },
      "source": [
        "%%script bash\n",
        "\n",
        "go build serv.go\n",
        "go build cli.go\n",
        "\n",
        "./serv &\n",
        "sleep 1\n",
        "./cli"
      ],
      "execution_count": 8,
      "outputs": [
        {
          "output_type": "stream",
          "text": [
            "Hola, soy un cliente 😲\n",
            "\n"
          ],
          "name": "stdout"
        }
      ]
    },
    {
      "cell_type": "code",
      "metadata": {
        "id": "qiFpf8RVer2S",
        "outputId": "bd557b20-1863-407a-baa8-ebfea2ec25fe",
        "colab": {
          "base_uri": "https://localhost:8080/"
        }
      },
      "source": [
        "%%writefile 1.go\n",
        "package main\n",
        "\n",
        "import (\n",
        "    \"fmt\"\n",
        ")\n",
        "\n",
        "func main() {\n",
        "    fmt.Println(\"Hola\")\n",
        "    defer fmt.Println(\"Saludos\")\n",
        "    for i := 0; i < 10; i++ {\n",
        "        fmt.Printf(\"numerote %d\\n\", i)\n",
        "        defer fmt.Printf(\"numerito %d\\n\", i)\n",
        "    }\n",
        "    fmt.Println(\"adios\")\n",
        "}"
      ],
      "execution_count": 4,
      "outputs": [
        {
          "output_type": "stream",
          "text": [
            "Writing 1.go\n"
          ],
          "name": "stdout"
        }
      ]
    },
    {
      "cell_type": "code",
      "metadata": {
        "id": "cGyzliBXfDPv",
        "outputId": "8b6f44b3-842d-408f-efc4-f64004c90b4d",
        "colab": {
          "base_uri": "https://localhost:8080/"
        }
      },
      "source": [
        "!go run 1.go"
      ],
      "execution_count": 5,
      "outputs": [
        {
          "output_type": "stream",
          "text": [
            "Hola\n",
            "numerote 0\n",
            "numerote 1\n",
            "numerote 2\n",
            "numerote 3\n",
            "numerote 4\n",
            "numerote 5\n",
            "numerote 6\n",
            "numerote 7\n",
            "numerote 8\n",
            "numerote 9\n",
            "adios\n",
            "numerito 9\n",
            "numerito 8\n",
            "numerito 7\n",
            "numerito 6\n",
            "numerito 5\n",
            "numerito 4\n",
            "numerito 3\n",
            "numerito 2\n",
            "numerito 1\n",
            "numerito 0\n",
            "Saludos\n"
          ],
          "name": "stdout"
        }
      ]
    },
    {
      "cell_type": "code",
      "metadata": {
        "id": "FO1UTebRfGWL"
      },
      "source": [
        ""
      ],
      "execution_count": null,
      "outputs": []
    }
  ]
}