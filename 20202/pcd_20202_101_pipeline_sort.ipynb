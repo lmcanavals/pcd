{
  "nbformat": 4,
  "nbformat_minor": 0,
  "metadata": {
    "colab": {
      "name": "pcd 20202 101 pipeline sort.ipynb",
      "provenance": [],
      "authorship_tag": "ABX9TyMzGG0y62e448bmYnxPuBmk",
      "include_colab_link": true
    },
    "kernelspec": {
      "name": "python3",
      "display_name": "Python 3"
    }
  },
  "cells": [
    {
      "cell_type": "markdown",
      "metadata": {
        "id": "view-in-github",
        "colab_type": "text"
      },
      "source": [
        "<a href=\"https://colab.research.google.com/github/pcsilcan/pcd/blob/master/20202/pcd_20202_101_pipeline_sort.ipynb\" target=\"_parent\"><img src=\"https://colab.research.google.com/assets/colab-badge.svg\" alt=\"Open In Colab\"/></a>"
      ]
    },
    {
      "cell_type": "code",
      "metadata": {
        "id": "N4fDQFB4biDC",
        "outputId": "3c067976-8ee1-423b-8ae0-cd36a3ea187d",
        "colab": {
          "base_uri": "https://localhost:8080/",
          "height": 35
        }
      },
      "source": [
        "%%writefile main.go\n",
        "package main\n",
        "\n",
        "import (\n",
        "    \"fmt\"\n",
        ")\n",
        "\n",
        "func proc(inC <-chan float64, outC chan<- float64) {\n",
        "    min := float64(1<<62)\n",
        "    for num := range inC {\n",
        "        if num < min {\n",
        "            outC<- min\n",
        "            min = num\n",
        "        } else {\n",
        "            outC<- num\n",
        "        }\n",
        "    }\n",
        "    fmt.Printf(\"%.0f \", min)\n",
        "    close(outC)\n",
        "}\n",
        "\n",
        "func main() {\n",
        "    nums := []float64{ 6., 1., 8., 10., 5., 9., 3., 7., 2., 4. }\n",
        "    ch := make([]chan float64, len(nums) + 1)\n",
        "    ch[0] = make(chan float64)\n",
        "    for i := range nums {\n",
        "        ch[i+1] = make(chan float64)\n",
        "        go proc(ch[i], ch[i+1])\n",
        "    }\n",
        "    go func(){\n",
        "        for _, num := range nums {\n",
        "            ch[0]<- num\n",
        "        }\n",
        "        close(ch[0])\n",
        "    }()\n",
        "    for range ch[len(nums)] {\n",
        "    }\n",
        "}"
      ],
      "execution_count": 11,
      "outputs": [
        {
          "output_type": "stream",
          "text": [
            "Overwriting main.go\n"
          ],
          "name": "stdout"
        }
      ]
    },
    {
      "cell_type": "code",
      "metadata": {
        "id": "VrFFacgWentl",
        "outputId": "b0a63e2a-42b6-4760-c863-43dad69a1d69",
        "colab": {
          "base_uri": "https://localhost:8080/",
          "height": 35
        }
      },
      "source": [
        "!go run main.go"
      ],
      "execution_count": 12,
      "outputs": [
        {
          "output_type": "stream",
          "text": [
            "1 2 3 4 5 6 7 8 9 10 "
          ],
          "name": "stdout"
        }
      ]
    },
    {
      "cell_type": "code",
      "metadata": {
        "id": "YUmHPeyqeqAv",
        "outputId": "3436d4c3-2b22-45a6-9d8c-2f6e4b19fe5f",
        "colab": {
          "base_uri": "https://localhost:8080/",
          "height": 125
        }
      },
      "source": [
        "!apt install golang-go"
      ],
      "execution_count": 13,
      "outputs": [
        {
          "output_type": "stream",
          "text": [
            "Reading package lists... Done\n",
            "Building dependency tree       \n",
            "Reading state information... Done\n",
            "golang-go is already the newest version (2:1.10~4ubuntu1).\n",
            "0 upgraded, 0 newly installed, 0 to remove and 21 not upgraded.\n",
            "f\n"
          ],
          "name": "stdout"
        }
      ]
    },
    {
      "cell_type": "code",
      "metadata": {
        "id": "-WkxuIiCetSq"
      },
      "source": [
        ""
      ],
      "execution_count": null,
      "outputs": []
    }
  ]
}