{
  "nbformat": 4,
  "nbformat_minor": 0,
  "metadata": {
    "colab": {
      "name": "pcd 20202 103 select.ipynb",
      "provenance": [],
      "authorship_tag": "ABX9TyONRLWg+1QKKOjHz1VhYC/U",
      "include_colab_link": true
    },
    "kernelspec": {
      "name": "python3",
      "display_name": "Python 3"
    }
  },
  "cells": [
    {
      "cell_type": "markdown",
      "metadata": {
        "id": "view-in-github",
        "colab_type": "text"
      },
      "source": [
        "<a href=\"https://colab.research.google.com/github/pcsilcan/pcd/blob/master/20202/pcd_20202_103_select.ipynb\" target=\"_parent\"><img src=\"https://colab.research.google.com/assets/colab-badge.svg\" alt=\"Open In Colab\"/></a>"
      ]
    },
    {
      "cell_type": "code",
      "metadata": {
        "id": "4fIzAJpO09FV",
        "outputId": "972fb77f-09b8-4acb-958f-03c05f14326a",
        "colab": {
          "base_uri": "https://localhost:8080/",
          "height": 89
        }
      },
      "source": [
        "!apt install golang-go 1>/dev/null && go version"
      ],
      "execution_count": 2,
      "outputs": [
        {
          "output_type": "stream",
          "text": [
            "\n",
            "WARNING: apt does not have a stable CLI interface. Use with caution in scripts.\n",
            "\n",
            "go version go1.10.4 linux/amd64\n"
          ],
          "name": "stdout"
        }
      ]
    },
    {
      "cell_type": "code",
      "metadata": {
        "id": "s9fDQ7Ws2EAP",
        "outputId": "4bd5d698-f07d-42ea-da13-a2081e37bdf1",
        "colab": {
          "base_uri": "https://localhost:8080/",
          "height": 35
        }
      },
      "source": [
        "%%writefile 1.go\n",
        "package main\n",
        "\n",
        "import \"fmt\"\n",
        "\n",
        "func p(id int, ch chan string) {\n",
        "    for i := 0; i < 10; i++ {\n",
        "        ch<- fmt.Sprintf(\"%d hola %d\", id, i)\n",
        "    }\n",
        "}\n",
        "\n",
        "func main() {\n",
        "    ch1 := make(chan string)\n",
        "    ch2 := make(chan string)\n",
        "\n",
        "    go p(1, ch1)\n",
        "    go p(2, ch2)\n",
        "\n",
        "    for i := 0; i < 20; i++ {\n",
        "        select {\n",
        "        case msg1 := <-ch1:\n",
        "            fmt.Printf(\"%s\\n\", msg1)\n",
        "        case msg2 := <-ch2:\n",
        "            fmt.Printf(\"%s\\n\", msg2)\n",
        "        }\n",
        "    }\n",
        "}"
      ],
      "execution_count": 16,
      "outputs": [
        {
          "output_type": "stream",
          "text": [
            "Overwriting 1.go\n"
          ],
          "name": "stdout"
        }
      ]
    },
    {
      "cell_type": "code",
      "metadata": {
        "id": "GR3rly7c3U4p",
        "outputId": "11410366-5522-4962-d2ec-b41f3c89cfae",
        "colab": {
          "base_uri": "https://localhost:8080/",
          "height": 376
        }
      },
      "source": [
        "!go run 1.go"
      ],
      "execution_count": 17,
      "outputs": [
        {
          "output_type": "stream",
          "text": [
            "2 hola 0\n",
            "1 hola 0\n",
            "2 hola 1\n",
            "2 hola 2\n",
            "2 hola 3\n",
            "2 hola 4\n",
            "2 hola 5\n",
            "2 hola 6\n",
            "2 hola 7\n",
            "2 hola 8\n",
            "2 hola 9\n",
            "1 hola 1\n",
            "1 hola 2\n",
            "1 hola 3\n",
            "1 hola 4\n",
            "1 hola 5\n",
            "1 hola 6\n",
            "1 hola 7\n",
            "1 hola 8\n",
            "1 hola 9\n"
          ],
          "name": "stdout"
        }
      ]
    },
    {
      "cell_type": "code",
      "metadata": {
        "id": "qH8bzTJh3WJF"
      },
      "source": [
        ""
      ],
      "execution_count": null,
      "outputs": []
    }
  ]
}