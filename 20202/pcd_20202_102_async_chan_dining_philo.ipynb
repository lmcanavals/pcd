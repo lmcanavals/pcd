{
  "nbformat": 4,
  "nbformat_minor": 0,
  "metadata": {
    "colab": {
      "name": "pcd 20202 102 async chan dining philo.ipynb",
      "provenance": [],
      "authorship_tag": "ABX9TyNPiUrPG1kRog7n8IT/RPFv",
      "include_colab_link": true
    },
    "kernelspec": {
      "name": "python3",
      "display_name": "Python 3"
    }
  },
  "cells": [
    {
      "cell_type": "markdown",
      "metadata": {
        "id": "view-in-github",
        "colab_type": "text"
      },
      "source": [
        "<a href=\"https://colab.research.google.com/github/pcsilcan/pcd/blob/master/20202/pcd_20202_102_async_chan_dining_philo.ipynb\" target=\"_parent\"><img src=\"https://colab.research.google.com/assets/colab-badge.svg\" alt=\"Open In Colab\"/></a>"
      ]
    },
    {
      "cell_type": "code",
      "metadata": {
        "id": "Re_NmEUnmAWh",
        "outputId": "1b4a89f3-593a-434b-8cfd-1bc342829e43",
        "colab": {
          "base_uri": "https://localhost:8080/",
          "height": 107
        }
      },
      "source": [
        "!apt install golang-go 1> /dev/null && go version"
      ],
      "execution_count": 8,
      "outputs": [
        {
          "output_type": "stream",
          "text": [
            "\n",
            "WARNING: apt does not have a stable CLI interface. Use with caution in scripts.\n",
            "\n",
            "go: unknown subcommand \"verion\"\n",
            "Run 'go help' for usage.\n"
          ],
          "name": "stdout"
        }
      ]
    },
    {
      "cell_type": "code",
      "metadata": {
        "id": "EfG5bMWmj3_S",
        "outputId": "03fd62b7-b833-45d4-b6c9-503c07692dd4",
        "colab": {
          "base_uri": "https://localhost:8080/",
          "height": 35
        }
      },
      "source": [
        "%%writefile 1.go\n",
        "package main\n",
        "\n",
        "import (\n",
        "    \"fmt\"\n",
        ")\n",
        "\n",
        "func main() {\n",
        "    ach := make(chan string, 1)\n",
        "\n",
        "    ach<- \"Hola\"\n",
        "\n",
        "    fmt.Println(<-ach)\n",
        "}"
      ],
      "execution_count": 6,
      "outputs": [
        {
          "output_type": "stream",
          "text": [
            "Overwriting 1.go\n"
          ],
          "name": "stdout"
        }
      ]
    },
    {
      "cell_type": "code",
      "metadata": {
        "id": "xaPJSGlTmD9d",
        "outputId": "c08eed6d-d71e-4443-9df6-57e563a51550",
        "colab": {
          "base_uri": "https://localhost:8080/",
          "height": 35
        }
      },
      "source": [
        "!go run 1.go"
      ],
      "execution_count": 7,
      "outputs": [
        {
          "output_type": "stream",
          "text": [
            "Hola\n"
          ],
          "name": "stdout"
        }
      ]
    },
    {
      "cell_type": "markdown",
      "metadata": {
        "id": "MSuKBk7VwJJB"
      },
      "source": [
        "# Dining Philosophers"
      ]
    },
    {
      "cell_type": "code",
      "metadata": {
        "id": "8zjKLl_ymFVO",
        "outputId": "76b453a1-e855-43cd-facd-8d49e9d62d96",
        "colab": {
          "base_uri": "https://localhost:8080/",
          "height": 35
        }
      },
      "source": [
        "%%writefile 1.go\n",
        "package main\n",
        "\n",
        "import \"fmt\"\n",
        "\n",
        "func philosopher(leftFork, rightFork chan bool) {\n",
        "\tfor {\n",
        "\t\tfmt.Println(\"Thinking about you.\")\n",
        "\t\t<-leftFork\n",
        "\t\t<-rightFork\n",
        "\t\tfmt.Println(\"Eating!!\")\n",
        "\t\tleftFork <- true\n",
        "\t\trightFork <- true\n",
        "\t}\n",
        "}\n",
        "\n",
        "func fork(chfork chan bool) {\n",
        "\tfor {\n",
        "\t\tchfork <- true\n",
        "\t\t<-chfork\n",
        "\t}\n",
        "}\n",
        "\n",
        "func main() {\n",
        "\tn := 5\n",
        "\tforks := make([]chan bool, n)\n",
        "\tfor i := range forks {\n",
        "\t\tforks[i] = make(chan bool, 1) // buffered channel or async channel\n",
        "\t}\n",
        "\tfor i := 0; i < n-1; i++ {\n",
        "\t\tgo philosopher(forks[i], forks[i+1])\n",
        "\t\tgo fork(forks[i])\n",
        "\t}\n",
        "\tgo philosopher(forks[n-1], forks[0])\n",
        "\tfork(forks[n-1])\n",
        "}"
      ],
      "execution_count": 15,
      "outputs": [
        {
          "output_type": "stream",
          "text": [
            "Overwriting 1.go\n"
          ],
          "name": "stdout"
        }
      ]
    },
    {
      "cell_type": "code",
      "metadata": {
        "id": "4rfLj6vOyBbK"
      },
      "source": [
        "!go run 1.go"
      ],
      "execution_count": null,
      "outputs": []
    },
    {
      "cell_type": "code",
      "metadata": {
        "id": "LE3JRziiyD-r"
      },
      "source": [
        ""
      ],
      "execution_count": null,
      "outputs": []
    }
  ]
}