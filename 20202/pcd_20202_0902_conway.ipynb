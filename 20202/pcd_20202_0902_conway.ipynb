{
  "nbformat": 4,
  "nbformat_minor": 0,
  "metadata": {
    "colab": {
      "name": "pcd 20202 0902 conway.ipynb",
      "provenance": [],
      "authorship_tag": "ABX9TyPVBaosQxAlY0h3SIefZfCi",
      "include_colab_link": true
    },
    "kernelspec": {
      "name": "python3",
      "display_name": "Python 3"
    }
  },
  "cells": [
    {
      "cell_type": "markdown",
      "metadata": {
        "id": "view-in-github",
        "colab_type": "text"
      },
      "source": [
        "<a href=\"https://colab.research.google.com/github/pcsilcan/pcd/blob/master/20202/pcd_20202_0902_conway.ipynb\" target=\"_parent\"><img src=\"https://colab.research.google.com/assets/colab-badge.svg\" alt=\"Open In Colab\"/></a>"
      ]
    },
    {
      "cell_type": "markdown",
      "metadata": {
        "id": "H3xzcmv2txCu"
      },
      "source": [
        "# Conway's problem"
      ]
    },
    {
      "cell_type": "code",
      "metadata": {
        "id": "rIifu8RRuAtK"
      },
      "source": [
        "!sudo apt install golang-go"
      ],
      "execution_count": null,
      "outputs": []
    },
    {
      "cell_type": "code",
      "metadata": {
        "id": "_xWPFgDYmNYf",
        "outputId": "ab4ce6c5-3585-4867-e8db-51d071226ea8",
        "colab": {
          "base_uri": "https://localhost:8080/",
          "height": 34
        }
      },
      "source": [
        "%%writefile 1.go\n",
        "package main\n",
        "\n",
        "import (\n",
        "    \"fmt\"\n",
        ")\n",
        "\n",
        "const (\n",
        "    MAX = 9\n",
        "    K   = 4\n",
        ")\n",
        "\n",
        "func compress(inC, pipe chan rune) {\n",
        "    n := 0\n",
        "    previous := <-inC\n",
        "    for c := range inC {\n",
        "        if c == previous && n < MAX-1 {\n",
        "            n++\n",
        "        } else {\n",
        "            if n > 0 {\n",
        "                pipe<- rune(n+1 + 48)\n",
        "                n = 0\n",
        "            }\n",
        "            pipe<- previous\n",
        "            previous = c\n",
        "        }\n",
        "    }\n",
        "    close(pipe)\n",
        "}\n",
        "\n",
        "func output(pipe, outC chan rune) {\n",
        "    m := 0\n",
        "    for c := range pipe {\n",
        "        outC<- c\n",
        "        m++\n",
        "        if m == K {\n",
        "            outC <- '\\n'\n",
        "            m = 0\n",
        "        }\n",
        "    }\n",
        "    close(outC)\n",
        "}\n",
        "\n",
        "func main() {\n",
        "    inC     := make(chan rune)\n",
        "    pipe    := make(chan rune)\n",
        "    outC    := make(chan rune)\n",
        "\n",
        "    go compress(inC, pipe)\n",
        "    go output(pipe, outC)\n",
        "\n",
        "    go func() {\n",
        "        str := \"aasbdsssdbsbdjjjfffskskkjsjhsshss.\"\n",
        "        for _, c := range str {\n",
        "            inC<- c\n",
        "        }\n",
        "        close(inC)\n",
        "    }()\n",
        "\n",
        "    for c := range outC {\n",
        "        fmt.Printf(\"%c\", c)\n",
        "    }\n",
        "    fmt.Println()\n",
        "}"
      ],
      "execution_count": null,
      "outputs": [
        {
          "output_type": "stream",
          "text": [
            "Overwriting 1.go\n"
          ],
          "name": "stdout"
        }
      ]
    },
    {
      "cell_type": "code",
      "metadata": {
        "id": "kDngwpaauDlT",
        "outputId": "8b0901b8-39e3-4d60-c630-cae0262fffa7",
        "colab": {
          "base_uri": "https://localhost:8080/",
          "height": 151
        }
      },
      "source": [
        "!go run 1.go"
      ],
      "execution_count": null,
      "outputs": [
        {
          "output_type": "stream",
          "text": [
            "2asb\n",
            "d3sd\n",
            "bsbd\n",
            "3j3f\n",
            "sks2\n",
            "kjsj\n",
            "h2sh\n",
            "2s\n"
          ],
          "name": "stdout"
        }
      ]
    },
    {
      "cell_type": "code",
      "metadata": {
        "id": "9g-3LKCJ5XbI"
      },
      "source": [
        "package main\n",
        "\n",
        "import (\n",
        "\t\"fmt\"\n",
        ")\n",
        "\n",
        "var end chan bool\n",
        "\n",
        "func zero(n int, west chan float64) {\n",
        "\tfor i := 0; i < n; i++ {\n",
        "\t\twest <- 0.0\n",
        "\t}\n",
        "\tclose(west)\n",
        "}\n",
        "\n",
        "func source(row []float64, south chan float64) {\n",
        "\tfor _, element := range row {\n",
        "\t\tsouth <- element\n",
        "\t}\n",
        "\tclose(south)\n",
        "}\n",
        "\n",
        "func sink(north chan float64) {\n",
        "\tfor range north {\n",
        "\t}\n",
        "}\n",
        "\n",
        "func result(c [][]float64, i int, east chan float64) {\n",
        "\tj := 0\n",
        "\tfor element := range east {\n",
        "\t\tc[i][j] = element\n",
        "\t\tj++\n",
        "\t}\n",
        "\tend <- true\n",
        "}\n",
        "\n",
        "func multiplier(firstElement float64, north, east, south, west chan float64) {\n",
        "\tfor secondElement := range north {\n",
        "\t\tsum := <-east\n",
        "\t\tsum = sum + firstElement*secondElement\n",
        "\t\tsouth <- secondElement\n",
        "\t\twest <- sum\n",
        "\t}\n",
        "\tclose(south)\n",
        "\tclose(west)\n",
        "}\n",
        "\n",
        "func main() {\n",
        "\ta := [][]float64{{1,  2,  3,  4},\n",
        "                     {5,  6,  7,  8},\n",
        "                     {9, 10, 11, 12}}\n",
        "\tb := [][]float64{{1, 0, 2}, {0, 1, 2}, {1, 0, 0}}\n",
        "\tc := [][]float64{{0, 0, 0}, {0, 0, 0}, {0, 0, 0}}\n",
        "\tend = make(chan bool)\n",
        "\tnra := len(a)\n",
        "\tnca := len(a[0])\n",
        "\tns := make([][]chan float64, nra+1) // canales norte sur, matrix de 4x3\n",
        "\tfor i := range ns {\n",
        "\t\tns[i] = make([]chan float64, nca)\n",
        "\t\tfor j := range ns[i] {\n",
        "\t\t\tns[i][j] = make(chan float64)\n",
        "\t\t}\n",
        "\t}\n",
        "\tew := make([][]chan float64, nra) // canales easte oeste, matrix de 3x4\n",
        "\tfor i := range ew {\n",
        "\t\tew[i] = make([]chan float64, nca+1)\n",
        "\t\tfor j := range ew[i] {\n",
        "\t\t\tew[i][j] = make(chan float64)\n",
        "\t\t}\n",
        "\t}\n",
        "\tfor i := 0; i < nra; i++ {\n",
        "\t\tgo zero(nra, ew[i][nca])\n",
        "\t\tgo result(c, i, ew[i][0])\n",
        "\t}\n",
        "\tfor i := 0; i < nca; i++ {\n",
        "\t\tgo source(b[i], ns[0][i])\n",
        "\t\tgo sink(ns[nra][i])\n",
        "\t}\n",
        "\tfor i := 0; i < nra; i++ {\n",
        "\t\tfor j := 0; j < nca; j++ {\n",
        "\t\t\tgo multiplier(a[i][j],\n",
        "\t\t\t\tns[i][j], ew[i][j+1],\n",
        "\t\t\t\tns[i+1][j], ew[i][j])\n",
        "\t\t}\n",
        "\t}\n",
        "\tfor i := 0; i < nra; i++ {\n",
        "\t\t<-end\n",
        "\t}\n",
        "\tfmt.Println(c)\n",
        "}"
      ],
      "execution_count": null,
      "outputs": []
    },
    {
      "cell_type": "code",
      "metadata": {
        "id": "kh2dcWSd5XWv",
        "outputId": "6ba8e41c-d378-427d-f578-cca845c10765",
        "colab": {
          "base_uri": "https://localhost:8080/",
          "height": 34
        }
      },
      "source": [
        "%%writefile 3.go\n",
        "package main\n",
        "\n",
        "import (\n",
        "\t\"fmt\"\n",
        ")\n",
        "\n",
        "var end chan bool\n",
        "\n",
        "func zero(n int, west chan float64) {\n",
        "\tfor i := 0; i < n; i++ {\n",
        "\t\twest <- 0.0\n",
        "\t}\n",
        "\tclose(west)\n",
        "}\n",
        "\n",
        "func source(row []float64, south chan float64) {\n",
        "\tfor _, element := range row {\n",
        "\t\tsouth <- element\n",
        "\t}\n",
        "\tclose(south)\n",
        "}\n",
        "\n",
        "func sink(north chan float64) {\n",
        "\tfor range north {\n",
        "\t}\n",
        "}\n",
        "\n",
        "func result(c [][]float64, i int, east chan float64) {\n",
        "\tj := 0\n",
        "\tfor element := range east {\n",
        "\t\tc[i][j] = element\n",
        "\t\tj++\n",
        "\t}\n",
        "\tend <- true\n",
        "}\n",
        "\n",
        "func multiplier(firstElement float64, north, east, south, west chan float64) {\n",
        "\tfor secondElement := range north {\n",
        "\t\tsum := <-east\n",
        "\t\tsum = sum + firstElement*secondElement\n",
        "\t\tsouth <- secondElement\n",
        "\t\twest <- sum\n",
        "\t}\n",
        "\tclose(south)\n",
        "\tclose(west)\n",
        "}\n",
        "\n",
        "func main() {\n",
        "\ta := [][]float64{{ 1,  2,  3,  4},\n",
        "                     { 5,  6,  7,  8}}\n",
        "\tb := [][]float64{{ 1,  2},\n",
        "                     { 5,  6},\n",
        "                     { 9, 10},\n",
        "                     {13, 14}}\n",
        "\tc := [][]float64{{0, 0},\n",
        "\t                 {0, 0}}\n",
        "\tend = make(chan bool)\n",
        "\tnra := len(a)\n",
        "\tnca := len(a[0])\n",
        "\tns := make([][]chan float64, nra+1) // canales norte sur, matrix de 4x3\n",
        "\tfor i := range ns {\n",
        "\t\tns[i] = make([]chan float64, nca)\n",
        "\t\tfor j := range ns[i] {\n",
        "\t\t\tns[i][j] = make(chan float64)\n",
        "\t\t}\n",
        "\t}\n",
        "\tew := make([][]chan float64, nra) // canales easte oeste, matrix de 3x4\n",
        "\tfor i := range ew {\n",
        "\t\tew[i] = make([]chan float64, nca+1)\n",
        "\t\tfor j := range ew[i] {\n",
        "\t\t\tew[i][j] = make(chan float64)\n",
        "\t\t}\n",
        "\t}\n",
        "\tfor i := 0; i < nra; i++ {\n",
        "\t\tgo zero(nra, ew[i][nca])\n",
        "\t\tgo result(c, i, ew[i][0])\n",
        "\t}\n",
        "\tfor i := 0; i < nca; i++ {\n",
        "\t\tgo source(b[i], ns[0][i])\n",
        "\t\tgo sink(ns[nra][i])\n",
        "\t}\n",
        "\tfor i := 0; i < nra; i++ {\n",
        "\t\tfor j := 0; j < nca; j++ {\n",
        "\t\t\tgo multiplier(a[i][j],\n",
        "\t\t\t\tns[i][j], ew[i][j+1],\n",
        "\t\t\t\tns[i+1][j], ew[i][j])\n",
        "\t\t}\n",
        "\t}\n",
        "\tfor i := 0; i < nra; i++ {\n",
        "\t\t<-end\n",
        "\t}\n",
        "\tfmt.Println(c)\n",
        "}"
      ],
      "execution_count": null,
      "outputs": [
        {
          "output_type": "stream",
          "text": [
            "Overwriting 3.go\n"
          ],
          "name": "stdout"
        }
      ]
    },
    {
      "cell_type": "code",
      "metadata": {
        "id": "fCRUsCky5vAx",
        "outputId": "4c88123d-2377-40fb-cacd-a943aa0d8da2",
        "colab": {
          "base_uri": "https://localhost:8080/",
          "height": 34
        }
      },
      "source": [
        "!go run 3.go"
      ],
      "execution_count": null,
      "outputs": [
        {
          "output_type": "stream",
          "text": [
            "[[90 100] [202 228]]\n"
          ],
          "name": "stdout"
        }
      ]
    },
    {
      "cell_type": "code",
      "metadata": {
        "id": "SW5jbJx_5wIe",
        "outputId": "fa4ebf7d-13dc-4e5e-a8d7-4089b949cd73",
        "colab": {
          "base_uri": "https://localhost:8080/",
          "height": 50
        }
      },
      "source": [
        "import numpy as np\n",
        "a = np.array([[ 1,  2,  3,  4],\n",
        "              [ 5,  6,  7,  8]])\n",
        "b = np.array([[ 1,  2],\n",
        "              [ 5,  6],\n",
        "              [ 9, 10],\n",
        "              [13, 14]])\n",
        "a.dot(b)"
      ],
      "execution_count": null,
      "outputs": [
        {
          "output_type": "execute_result",
          "data": {
            "text/plain": [
              "array([[ 90, 100],\n",
              "       [202, 228]])"
            ]
          },
          "metadata": {
            "tags": []
          },
          "execution_count": 32
        }
      ]
    },
    {
      "cell_type": "code",
      "metadata": {
        "id": "C2l_kT3r6jkd"
      },
      "source": [
        ""
      ],
      "execution_count": null,
      "outputs": []
    }
  ]
}