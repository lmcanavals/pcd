{
  "nbformat": 4,
  "nbformat_minor": 0,
  "metadata": {
    "colab": {
      "name": "07-01-openmp.ipynb",
      "provenance": [],
      "authorship_tag": "ABX9TyO01AI1N7EF0kqSTrAnIwtI",
      "include_colab_link": true
    },
    "kernelspec": {
      "name": "python3",
      "display_name": "Python 3"
    },
    "language_info": {
      "name": "python"
    }
  },
  "cells": [
    {
      "cell_type": "markdown",
      "metadata": {
        "id": "view-in-github",
        "colab_type": "text"
      },
      "source": [
        "<a href=\"https://colab.research.google.com/github/lmcanavals/pcd/blob/master/07_01_openmp.ipynb\" target=\"_parent\"><img src=\"https://colab.research.google.com/assets/colab-badge.svg\" alt=\"Open In Colab\"/></a>"
      ]
    },
    {
      "cell_type": "code",
      "execution_count": 2,
      "metadata": {
        "colab": {
          "base_uri": "https://localhost:8080/"
        },
        "id": "lK0a1058oQbQ",
        "outputId": "0a22d8e6-555a-4895-fdff-e6de7029f1b7"
      },
      "outputs": [
        {
          "output_type": "stream",
          "name": "stdout",
          "text": [
            "\u001b[01m\u001b[Kg++:\u001b[m\u001b[K \u001b[01;31m\u001b[Kfatal error: \u001b[m\u001b[Kno input files\n",
            "compilation terminated.\n"
          ]
        }
      ],
      "source": [
        "!g++"
      ]
    },
    {
      "cell_type": "code",
      "source": [
        "%%file hola.c\n",
        "#include <stdio.h>\n",
        "#include <omp.h>\n",
        "\n",
        "int main() {\n",
        "    printf(\"Hello, World!\\n\");\n",
        "    return 0;\n",
        "}"
      ],
      "metadata": {
        "colab": {
          "base_uri": "https://localhost:8080/"
        },
        "id": "Kcv8aLzHoSpP",
        "outputId": "65c8f3dc-acc5-41e8-9772-f80383945238"
      },
      "execution_count": 4,
      "outputs": [
        {
          "output_type": "stream",
          "name": "stdout",
          "text": [
            "Overwriting hola.c\n"
          ]
        }
      ]
    },
    {
      "cell_type": "code",
      "source": [
        "%%bash\n",
        "gcc hola.c && ./a.out"
      ],
      "metadata": {
        "colab": {
          "base_uri": "https://localhost:8080/"
        },
        "id": "dIHW2p8CopR6",
        "outputId": "f343cdb1-bc86-41b5-df8f-5d2ae43999b1"
      },
      "execution_count": 6,
      "outputs": [
        {
          "output_type": "stream",
          "name": "stdout",
          "text": [
            "Hello, World!\n"
          ]
        }
      ]
    },
    {
      "cell_type": "code",
      "source": [
        "%%file hola2.c\n",
        "#include <stdio.h>\n",
        "#include <omp.h>\n",
        "\n",
        "int main() {\n",
        "#pragma omp parallel\n",
        "{\n",
        "    int id = omp_get_thread_num();\n",
        "    printf(\"Hello (%d)\", id);\n",
        "    printf(\", World! (%d)\\n\", id);\n",
        "}\n",
        "    return 0;\n",
        "}"
      ],
      "metadata": {
        "colab": {
          "base_uri": "https://localhost:8080/"
        },
        "id": "3WrTSbeao0Y_",
        "outputId": "4f5e633c-6fae-4961-8d78-90ac4a1ab8e7"
      },
      "execution_count": 21,
      "outputs": [
        {
          "output_type": "stream",
          "name": "stdout",
          "text": [
            "Overwriting hola2.c\n"
          ]
        }
      ]
    },
    {
      "cell_type": "code",
      "source": [
        "%%bash\n",
        "export OMP_NUM_THREADS=4\n",
        "gcc -fopenmp hola2.c && ./a.out"
      ],
      "metadata": {
        "colab": {
          "base_uri": "https://localhost:8080/"
        },
        "id": "kbYfHZytpRPs",
        "outputId": "b1cbc28f-058d-4b60-9fcf-34433123bba5"
      },
      "execution_count": 22,
      "outputs": [
        {
          "output_type": "stream",
          "name": "stdout",
          "text": [
            "Hello (1), World! (1)\n",
            "Hello (2)Hello (0), World! (2)\n",
            ", World! (0)\n",
            "Hello (3), World! (3)\n"
          ]
        }
      ]
    },
    {
      "cell_type": "code",
      "source": [
        "%%file hola3.c\n",
        "#include <stdio.h>\n",
        "#include <omp.h>\n",
        "\n",
        "int main() {\n",
        "#pragma omp parallel num_threads(6)\n",
        "{\n",
        "    int id = omp_get_thread_num();\n",
        "    printf(\"Hello (%d)\", id);\n",
        "    printf(\", World! (%d)\\n\", id);\n",
        "}\n",
        "    return 0;\n",
        "}"
      ],
      "metadata": {
        "colab": {
          "base_uri": "https://localhost:8080/"
        },
        "id": "4k_q8luIpT8n",
        "outputId": "cbdce54a-c73a-477b-9b5d-58a194203c92"
      },
      "execution_count": 23,
      "outputs": [
        {
          "output_type": "stream",
          "name": "stdout",
          "text": [
            "Writing hola3.c\n"
          ]
        }
      ]
    },
    {
      "cell_type": "code",
      "source": [
        "%%bash\n",
        "gcc -fopenmp hola3.c && ./a.out"
      ],
      "metadata": {
        "colab": {
          "base_uri": "https://localhost:8080/"
        },
        "id": "xMpYZTCts40W",
        "outputId": "c40cf44d-2fe6-4b8f-c64e-859ee79f9315"
      },
      "execution_count": 25,
      "outputs": [
        {
          "output_type": "stream",
          "name": "stdout",
          "text": [
            "Hello (1), World! (1)\n",
            "Hello (2), World! (2)\n",
            "Hello (0), World! (0)\n",
            "Hello (3), World! (3)\n",
            "Hello (4), World! (4)\n",
            "Hello (5), World! (5)\n"
          ]
        }
      ]
    },
    {
      "cell_type": "markdown",
      "source": [
        "# Trying to calculate Pi"
      ],
      "metadata": {
        "id": "Ub45U31NuB2T"
      }
    },
    {
      "cell_type": "code",
      "source": [
        "%%file pi1.c\n",
        "#include <stdio.h>\n",
        "#include <omp.h>\n",
        "\n",
        "static long num_steps = 1000000;\n",
        "double step;\n",
        "\n",
        "int main() {\n",
        "    double start = omp_get_wtime();\n",
        "\n",
        "    double x, pi, sum = 0.0;\n",
        "\n",
        "    step = 1.0 / (double)num_steps;\n",
        "    for (int i = 0; i < num_steps; ++i) {\n",
        "        x = (i + 0.5)*step;\n",
        "        sum += 4.0 / (1.0 + x*x);\n",
        "    }\n",
        "\n",
        "    pi = step * sum;\n",
        "\n",
        "    double elapsed = omp_get_wtime() - start;\n",
        "\n",
        "    printf(\"Pi = %lf\\n\", pi);\n",
        "    printf(\"Time = %lf seconds\\n\", elapsed);\n",
        "\n",
        "    return 0;\n",
        "}"
      ],
      "metadata": {
        "colab": {
          "base_uri": "https://localhost:8080/"
        },
        "id": "FTKkd5zHs6Ra",
        "outputId": "160aa6f2-dfed-41b6-b8cf-04693d308dd3"
      },
      "execution_count": 71,
      "outputs": [
        {
          "output_type": "stream",
          "name": "stdout",
          "text": [
            "Overwriting pi1.c\n"
          ]
        }
      ]
    },
    {
      "cell_type": "code",
      "source": [
        "!gcc -fopenmp pi1.c && ./a.out"
      ],
      "metadata": {
        "colab": {
          "base_uri": "https://localhost:8080/"
        },
        "id": "e7kmrarHvCW5",
        "outputId": "0076e239-6a1e-4fa1-d717-25b705932303"
      },
      "execution_count": 76,
      "outputs": [
        {
          "output_type": "stream",
          "name": "stdout",
          "text": [
            "Pi = 3.141593\n",
            "Time = 0.013846 seconds\n"
          ]
        }
      ]
    },
    {
      "cell_type": "markdown",
      "source": [
        "## First parallel version"
      ],
      "metadata": {
        "id": "4k4jv8Tewmac"
      }
    },
    {
      "cell_type": "code",
      "source": [
        "%%file pi2.c\n",
        "#include <stdio.h>\n",
        "#include <omp.h>\n",
        "\n",
        "#define NUM_THREADS 2\n",
        "\n",
        "static long num_steps = 1000000;\n",
        "double step;\n",
        "\n",
        "int main() {\n",
        "    int nthreads;\n",
        "    double start = omp_get_wtime();\n",
        "\n",
        "    double pi, sum[NUM_THREADS];\n",
        "    step = 1.0 / (double)num_steps;\n",
        "\n",
        "    omp_set_num_threads(NUM_THREADS);\n",
        "#pragma omp parallel\n",
        "{\n",
        "    int id = omp_get_thread_num();\n",
        "    int nthreads2 = omp_get_num_threads();\n",
        "    if (id == 0) nthreads = nthreads2;\n",
        "    sum[id] = 0.0;\n",
        "    double x;\n",
        "    for (int i = id; i < num_steps; i += nthreads2) {\n",
        "        x = (i + 0.5)*step;\n",
        "        sum[id] += 4.0 / (1.0 + x*x);\n",
        "    }\n",
        "}\n",
        "    pi = 0.0;\n",
        "    for (int i = 0; i < nthreads; ++i) {\n",
        "        pi += sum[i];\n",
        "    }\n",
        "    pi = pi * step;\n",
        "\n",
        "    double elapsed = omp_get_wtime() - start;\n",
        "\n",
        "    printf(\"Pi = %lf\\n\", pi);\n",
        "    printf(\"Time = %lf seconds\\n\", elapsed);\n",
        "\n",
        "    return 0;\n",
        "}"
      ],
      "metadata": {
        "colab": {
          "base_uri": "https://localhost:8080/"
        },
        "id": "hVy-D3XgwAR2",
        "outputId": "9957acd5-b5db-4858-ccff-e6ec087437c0"
      },
      "execution_count": 81,
      "outputs": [
        {
          "output_type": "stream",
          "name": "stdout",
          "text": [
            "Overwriting pi2.c\n"
          ]
        }
      ]
    },
    {
      "cell_type": "code",
      "source": [
        "!gcc -fopenmp pi2.c && ./a.out"
      ],
      "metadata": {
        "colab": {
          "base_uri": "https://localhost:8080/"
        },
        "id": "MwZodYOMwzrr",
        "outputId": "d6a04c05-f7bf-4307-80e9-7ce44891e57c"
      },
      "execution_count": 84,
      "outputs": [
        {
          "output_type": "stream",
          "name": "stdout",
          "text": [
            "Pi = 3.141593\n",
            "Time = 0.018820 seconds\n"
          ]
        }
      ]
    },
    {
      "cell_type": "markdown",
      "source": [
        "## Another try"
      ],
      "metadata": {
        "id": "2b00g-_D3naV"
      }
    },
    {
      "cell_type": "code",
      "source": [
        "%%file pi3.c\n",
        "#include <stdio.h>\n",
        "#include <omp.h>\n",
        "\n",
        "#define PAD 8\n",
        "#define NUM_THREADS 2\n",
        "\n",
        "static long num_steps = 1000000;\n",
        "double step;\n",
        "\n",
        "int main() {\n",
        "    int nthreads;\n",
        "    double start = omp_get_wtime();\n",
        "\n",
        "    double pi, sum[NUM_THREADS][PAD];\n",
        "    step = 1.0 / (double)num_steps;\n",
        "\n",
        "    omp_set_num_threads(NUM_THREADS);\n",
        "#pragma omp parallel\n",
        "{\n",
        "    int id = omp_get_thread_num();\n",
        "    int nthreads2 = omp_get_num_threads();\n",
        "    if (id == 0) nthreads = nthreads2;\n",
        "    sum[id][0] = 0.0;\n",
        "    double x;\n",
        "    for (int i = id; i < num_steps; i += nthreads2) {\n",
        "        x = (i + 0.5)*step;\n",
        "        sum[id][0] += 4.0 / (1.0 + x*x);\n",
        "    }\n",
        "}\n",
        "    pi = 0.0;\n",
        "    for (int i = 0; i < nthreads; ++i) {\n",
        "        pi += sum[i][0];\n",
        "    }\n",
        "    pi = pi * step;\n",
        "\n",
        "    double elapsed = omp_get_wtime() - start;\n",
        "\n",
        "    printf(\"Pi = %lf\\n\", pi);\n",
        "    printf(\"Time = %lf seconds\\n\", elapsed);\n",
        "\n",
        "    return 0;\n",
        "}"
      ],
      "metadata": {
        "colab": {
          "base_uri": "https://localhost:8080/"
        },
        "id": "CuJZih-Ow39e",
        "outputId": "f4c04344-a0dc-4cad-8de7-535eeb77d213"
      },
      "execution_count": 85,
      "outputs": [
        {
          "output_type": "stream",
          "name": "stdout",
          "text": [
            "Overwriting pi3.c\n"
          ]
        }
      ]
    },
    {
      "cell_type": "code",
      "source": [
        "!gcc -fopenmp pi3.c && ./a.out"
      ],
      "metadata": {
        "colab": {
          "base_uri": "https://localhost:8080/"
        },
        "id": "BtDbkCOh39kb",
        "outputId": "aa2930d1-9603-4aaa-e2f2-eb14cf0d13b1"
      },
      "execution_count": 88,
      "outputs": [
        {
          "output_type": "stream",
          "name": "stdout",
          "text": [
            "Pi = 3.141593\n",
            "Time = 0.011812 seconds\n"
          ]
        }
      ]
    },
    {
      "cell_type": "markdown",
      "source": [
        "## A better try"
      ],
      "metadata": {
        "id": "zLkyaZ8w5j4e"
      }
    },
    {
      "cell_type": "code",
      "source": [
        "%%file pi4.c\n",
        "#include <stdio.h>\n",
        "#include <omp.h>\n",
        "\n",
        "#define PAD 8\n",
        "#define NUM_THREADS 2\n",
        "\n",
        "static long num_steps = 1000000;\n",
        "double step;\n",
        "\n",
        "int main() {\n",
        "    int nthreads;\n",
        "    double start = omp_get_wtime();\n",
        "\n",
        "    double pi;\n",
        "    step = 1.0 / (double)num_steps;\n",
        "\n",
        "    omp_set_num_threads(NUM_THREADS);\n",
        "#pragma omp parallel\n",
        "{\n",
        "    int id = omp_get_thread_num();\n",
        "    int nthreads2 = omp_get_num_threads();\n",
        "    if (id == 0) nthreads = nthreads2;\n",
        "    double sum = 0.0;\n",
        "    double x;\n",
        "    for (int i = id; i < num_steps; i += nthreads2) {\n",
        "        x = (i + 0.5)*step;\n",
        "        sum += 4.0 / (1.0 + x*x);\n",
        "    }\n",
        "#pragma omp critical\n",
        "    pi += sum;\n",
        "}\n",
        "    pi = pi * step;\n",
        "\n",
        "    double elapsed = omp_get_wtime() - start;\n",
        "\n",
        "    printf(\"Pi = %lf\\n\", pi);\n",
        "    printf(\"Time = %lf seconds\\n\", elapsed);\n",
        "\n",
        "    return 0;\n",
        "}"
      ],
      "metadata": {
        "colab": {
          "base_uri": "https://localhost:8080/"
        },
        "id": "N4RBdi_Y4BZn",
        "outputId": "a40d9613-888f-4cde-b820-536f6832d92d"
      },
      "execution_count": 90,
      "outputs": [
        {
          "output_type": "stream",
          "name": "stdout",
          "text": [
            "Writing pi4.c\n"
          ]
        }
      ]
    },
    {
      "cell_type": "code",
      "source": [
        "!gcc -fopenmp pi4.c && ./a.out"
      ],
      "metadata": {
        "colab": {
          "base_uri": "https://localhost:8080/"
        },
        "id": "T1IZjExk6fu3",
        "outputId": "3032851e-d493-4fcd-fa9a-1b1cbd83addb"
      },
      "execution_count": 97,
      "outputs": [
        {
          "output_type": "stream",
          "name": "stdout",
          "text": [
            "Pi = 3.141593\n",
            "Time = 0.007248 seconds\n"
          ]
        }
      ]
    },
    {
      "cell_type": "markdown",
      "source": [
        "## The right way"
      ],
      "metadata": {
        "id": "Nrg1O7fL_Muz"
      }
    },
    {
      "cell_type": "code",
      "source": [
        "%%file pi5.c\n",
        "#include <stdio.h>\n",
        "#include <omp.h>\n",
        "\n",
        "static long num_steps = 1000000;\n",
        "double step;\n",
        "\n",
        "int main() {\n",
        "    double start = omp_get_wtime();\n",
        "\n",
        "    double x, pi, sum = 0.0;\n",
        "\n",
        "    step = 1.0 / (double)num_steps;\n",
        "#pragma omp parallel for reduction(+:sum) private(x)\n",
        "    for (int i = 0; i < num_steps; ++i) {\n",
        "        x = (i + 0.5)*step;\n",
        "        sum += 4.0 / (1.0 + x*x);\n",
        "    }\n",
        "\n",
        "    pi = step * sum;\n",
        "\n",
        "    double elapsed = omp_get_wtime() - start;\n",
        "\n",
        "    printf(\"Pi = %lf\\n\", pi);\n",
        "    printf(\"Time = %lf seconds\\n\", elapsed);\n",
        "\n",
        "    return 0;\n",
        "}"
      ],
      "metadata": {
        "colab": {
          "base_uri": "https://localhost:8080/"
        },
        "id": "0U0TQz356jfF",
        "outputId": "f7d6b03c-a258-40a2-eb54-b1d785cdc347"
      },
      "execution_count": 113,
      "outputs": [
        {
          "output_type": "stream",
          "name": "stdout",
          "text": [
            "Overwriting pi5.c\n"
          ]
        }
      ]
    },
    {
      "cell_type": "code",
      "source": [
        "!gcc -fopenmp pi5.c && ./a.out"
      ],
      "metadata": {
        "colab": {
          "base_uri": "https://localhost:8080/"
        },
        "id": "knsgtppGAerH",
        "outputId": "ab1524a0-9cc1-411b-8f1e-0e9ac3d2065f"
      },
      "execution_count": 114,
      "outputs": [
        {
          "output_type": "stream",
          "name": "stdout",
          "text": [
            "Pi = 3.141593\n",
            "Time = 0.007244 seconds\n"
          ]
        }
      ]
    },
    {
      "cell_type": "code",
      "source": [
        ""
      ],
      "metadata": {
        "id": "aLLlRj_pBYJ-"
      },
      "execution_count": null,
      "outputs": []
    }
  ]
}