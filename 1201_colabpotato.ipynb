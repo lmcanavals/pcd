{
  "nbformat": 4,
  "nbformat_minor": 0,
  "metadata": {
    "colab": {
      "name": "1201-colabpotato.ipynb",
      "provenance": [],
      "collapsed_sections": [],
      "authorship_tag": "ABX9TyOS/o5Mvyc4DkMEwncW7A1C",
      "include_colab_link": true
    },
    "kernelspec": {
      "name": "python3",
      "display_name": "Python 3"
    },
    "language_info": {
      "name": "python"
    }
  },
  "cells": [
    {
      "cell_type": "markdown",
      "metadata": {
        "id": "view-in-github",
        "colab_type": "text"
      },
      "source": [
        "<a href=\"https://colab.research.google.com/github/lmcanavals/pcd/blob/master/1201_colabpotato.ipynb\" target=\"_parent\"><img src=\"https://colab.research.google.com/assets/colab-badge.svg\" alt=\"Open In Colab\"/></a>"
      ]
    },
    {
      "cell_type": "code",
      "execution_count": null,
      "metadata": {
        "id": "2jcQQ17WTYV2"
      },
      "outputs": [],
      "source": [
        "!apt install golang-go"
      ]
    },
    {
      "cell_type": "code",
      "source": [
        "%%file potatostart.go\n",
        "package main\n",
        "\n",
        "import (\n",
        "\t\"fmt\"\n",
        "\t\"math/rand\"\n",
        "\t\"net\"\n",
        "\t\"os\"\n",
        "\t\"time\"\n",
        ")\n",
        "\n",
        "var remote string\n",
        "\n",
        "func main() {\n",
        "\trand.Seed(time.Now().UnixNano())\n",
        "\tif len(os.Args) < 2 {\n",
        "\t\treturn\n",
        "\t}\n",
        "\tremote = os.Args[1]\n",
        "\tsend(rand.Intn(1000))\n",
        "}\n",
        "\n",
        "func send(num int) {\n",
        "\tcn, _ := net.Dial(\"tcp\", remote)\n",
        "\tdefer cn.Close()\n",
        "\tfmt.Fprintf(cn, \"%d\\n\", num)\n",
        "}\n"
      ],
      "metadata": {
        "colab": {
          "base_uri": "https://localhost:8080/"
        },
        "id": "LZ1qvhS_TtGF",
        "outputId": "43c6fbce-eb1a-42a5-c0ba-a12bf1865c79"
      },
      "execution_count": null,
      "outputs": [
        {
          "output_type": "stream",
          "name": "stdout",
          "text": [
            "Writing potatostart.go\n"
          ]
        }
      ]
    },
    {
      "cell_type": "code",
      "source": [
        "%%file randpotato.go\n",
        "package main\n",
        "\n",
        "import (\n",
        "\t\"bufio\"\n",
        "\t\"fmt\"\n",
        "\t\"math/rand\"\n",
        "\t\"net\"\n",
        "\t\"os\"\n",
        "\t\"strconv\"\n",
        "\t\"strings\"\n",
        "\t\"time\"\n",
        ")\n",
        "\n",
        "var remote []string\n",
        "\n",
        "func main() {\n",
        "\trand.Seed(time.Now().UnixNano())\n",
        "\tif len(os.Args) < 3 {\n",
        "        fmt.Println(\":(\")\n",
        "\t\treturn\n",
        "\t}\n",
        "\thost := os.Args[1]\n",
        "\tremote = os.Args[2:]\n",
        "\n",
        "\tln, _ := net.Listen(\"tcp\", host)\n",
        "\tdefer ln.Close()\n",
        "\n",
        "\tfmt.Printf(\"Listening on %s...\\n\", host)\n",
        "\n",
        "\tfor {\n",
        "\t\tcn, _ := ln.Accept()\n",
        "\t\tgo handle(cn)\n",
        "\t}\n",
        "}\n",
        "\n",
        "func handle(cn net.Conn) {\n",
        "\tdefer cn.Close()\n",
        "\tr := bufio.NewReader(cn)\n",
        "\tstrNum, _ := r.ReadString('\\n')\n",
        "\tnum, _ := strconv.Atoi(strings.TrimSpace(strNum))\n",
        "\tfmt.Printf(\"Nro: %s\", strNum)\n",
        "\tif num == 0 {\n",
        "\t\tfmt.Println(\"He perdido...\")\n",
        "\t} else {\n",
        "\t\tsend(num - 1)\n",
        "\t}\n",
        "}\n",
        "\n",
        "func send(num int) {\n",
        "\tselected := remote[rand.Intn(len(remote))]\n",
        "\tcn, _ := net.Dial(\"tcp\", selected)\n",
        "\tfmt.Printf(\"Sending %d to %s...\\n\", num, selected)\n",
        "\tdefer cn.Close()\n",
        "\tfmt.Fprintf(cn, \"%d\\n\", num)\n",
        "}\n"
      ],
      "metadata": {
        "colab": {
          "base_uri": "https://localhost:8080/"
        },
        "id": "GAUxuoz3TwdI",
        "outputId": "ca03e947-b23b-4961-e98d-62e1e0698f64"
      },
      "execution_count": null,
      "outputs": [
        {
          "output_type": "stream",
          "name": "stdout",
          "text": [
            "Overwriting randpotato.go\n"
          ]
        }
      ]
    },
    {
      "cell_type": "code",
      "source": [
        "!go build randpotato.go"
      ],
      "metadata": {
        "id": "p0VYsw1IUzqq"
      },
      "execution_count": null,
      "outputs": []
    },
    {
      "cell_type": "code",
      "source": [
        "%%bash\n",
        "\n",
        "./randpotato localhost:8000 localhost:8001 localhost:8002 localhost:8003 localhost:8004 &\n",
        "sleep 1\n",
        "./randpotato localhost:8001 localhost:8000 localhost:8002 localhost:8003 localhost:8004 &\n",
        "sleep 1\n",
        "./randpotato localhost:8002 localhost:8001 localhost:8000 localhost:8003 localhost:8004 &\n",
        "sleep 1\n",
        "./randpotato localhost:8003 localhost:8001 localhost:8002 localhost:8000 localhost:8004 &\n",
        "sleep 1\n",
        "./randpotato localhost:8004 localhost:8001 localhost:8002 localhost:8003 localhost:8000 &\n",
        "sleep 1\n",
        "\n",
        "go run potatostart.go localhost:8000\n",
        "\n",
        "sleep 5\n",
        "pkill randpotato"
      ],
      "metadata": {
        "id": "UI-qu_LVT5WE"
      },
      "execution_count": null,
      "outputs": []
    },
    {
      "cell_type": "code",
      "source": [
        "!ps ax"
      ],
      "metadata": {
        "id": "IeK4wKCtWTns"
      },
      "execution_count": null,
      "outputs": []
    },
    {
      "cell_type": "code",
      "source": [
        "%%file sp.go\n",
        "package main\n",
        "\n",
        "import (\n",
        "    \"fmt\"\n",
        "    \"time\"\n",
        "    \"os\"\n",
        ")\n",
        "\n",
        "func main() {\n",
        "    time.Sleep(time.Second)\n",
        "    for i := 0; i < 100; i++ {\n",
        "        fmt.Printf(\"%s %d\\n\", os.Args[1], i)\n",
        "        time.Sleep(time.Millisecond * 10)\n",
        "    }\n",
        "}"
      ],
      "metadata": {
        "colab": {
          "base_uri": "https://localhost:8080/"
        },
        "id": "UTqEDvusWcIT",
        "outputId": "a4a197bf-6dab-4518-e505-6428cbc91696"
      },
      "execution_count": null,
      "outputs": [
        {
          "output_type": "stream",
          "name": "stdout",
          "text": [
            "Overwriting sp.go\n"
          ]
        }
      ]
    },
    {
      "cell_type": "code",
      "source": [
        "%%bash\n",
        "go build sp.go\n",
        "\n",
        "./sp \"procesoA\" &\n",
        "sleep 1\n",
        "./sp \"  procesoB\" &"
      ],
      "metadata": {
        "id": "Ka2MKcJEXo1O"
      },
      "execution_count": null,
      "outputs": []
    },
    {
      "cell_type": "code",
      "source": [
        ""
      ],
      "metadata": {
        "id": "6jRY009WX0Z8"
      },
      "execution_count": null,
      "outputs": []
    }
  ]
}