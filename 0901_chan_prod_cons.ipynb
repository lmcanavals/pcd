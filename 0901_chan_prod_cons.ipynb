{
  "nbformat": 4,
  "nbformat_minor": 0,
  "metadata": {
    "colab": {
      "name": "0901-chan-prod-cons.ipynb",
      "provenance": [],
      "authorship_tag": "ABX9TyNteYYdQmnIdXVkd7DhLjo/",
      "include_colab_link": true
    },
    "kernelspec": {
      "name": "python3",
      "display_name": "Python 3"
    },
    "language_info": {
      "name": "python"
    }
  },
  "cells": [
    {
      "cell_type": "markdown",
      "metadata": {
        "id": "view-in-github",
        "colab_type": "text"
      },
      "source": [
        "<a href=\"https://colab.research.google.com/github/lmcanavals/pcd/blob/master/0901_chan_prod_cons.ipynb\" target=\"_parent\"><img src=\"https://colab.research.google.com/assets/colab-badge.svg\" alt=\"Open In Colab\"/></a>"
      ]
    },
    {
      "cell_type": "code",
      "execution_count": null,
      "metadata": {
        "id": "BMSIX6wJwnRS"
      },
      "outputs": [],
      "source": [
        "!apt install golang-go"
      ]
    },
    {
      "cell_type": "code",
      "source": [
        "%%file chan1.go\n",
        "package main\n",
        "\n",
        "import (\n",
        "    \"fmt\"\n",
        ")\n",
        "\n",
        "func main() {\n",
        "    ch := make(chan string) // synchronous channel\n",
        "\n",
        "    ch <- \"Hola\";\n",
        "\n",
        "    fmt.Printf(\"%s, Mundo!\", <-ch)\n",
        "}"
      ],
      "metadata": {
        "colab": {
          "base_uri": "https://localhost:8080/"
        },
        "id": "meDLvHF3xDpE",
        "outputId": "cc45daef-8d0a-4197-b822-9daa15ac5e2b"
      },
      "execution_count": null,
      "outputs": [
        {
          "output_type": "stream",
          "name": "stdout",
          "text": [
            "Writing chan1.go\n"
          ]
        }
      ]
    },
    {
      "cell_type": "code",
      "source": [
        "!go run chan1.go"
      ],
      "metadata": {
        "colab": {
          "base_uri": "https://localhost:8080/"
        },
        "id": "Ul-r2OeUyISZ",
        "outputId": "5a27217c-db67-4d1b-bd04-5cc9d4241220"
      },
      "execution_count": null,
      "outputs": [
        {
          "output_type": "stream",
          "name": "stdout",
          "text": [
            "fatal error: all goroutines are asleep - deadlock!\n",
            "\n",
            "goroutine 1 [chan send]:\n",
            "main.main()\n",
            "\t/content/chan1.go:10 +0x59\n",
            "exit status 2\n"
          ]
        }
      ]
    },
    {
      "cell_type": "markdown",
      "source": [
        "Correjir error"
      ],
      "metadata": {
        "id": "-2UENHPfyVBv"
      }
    },
    {
      "cell_type": "code",
      "source": [
        "%%file chan2.go\n",
        "package main\n",
        "\n",
        "import (\n",
        "    \"fmt\"\n",
        ")\n",
        "\n",
        "func main() {\n",
        "    ch := make(chan string) // synchronous channel\n",
        "\n",
        "    go func() {\n",
        "      ch <- \"Hola\";\n",
        "    }()\n",
        "\n",
        "    fmt.Printf(\"%s, Mundo!\", <-ch)\n",
        "}"
      ],
      "metadata": {
        "colab": {
          "base_uri": "https://localhost:8080/"
        },
        "id": "hHOVAlN3yKfI",
        "outputId": "fe0bc645-4a2e-460a-8015-21c19d89be0f"
      },
      "execution_count": null,
      "outputs": [
        {
          "output_type": "stream",
          "name": "stdout",
          "text": [
            "Overwriting chan2.go\n"
          ]
        }
      ]
    },
    {
      "cell_type": "code",
      "source": [
        "!go run chan2.go"
      ],
      "metadata": {
        "colab": {
          "base_uri": "https://localhost:8080/"
        },
        "id": "mbGpIUJEygEW",
        "outputId": "1fc7318c-a029-40fd-dc38-ba2601707dfd"
      },
      "execution_count": null,
      "outputs": [
        {
          "output_type": "stream",
          "name": "stdout",
          "text": [
            "Hola, Mundo!"
          ]
        }
      ]
    },
    {
      "cell_type": "markdown",
      "source": [
        "# Producers and Consumers"
      ],
      "metadata": {
        "id": "Q3MebQ6IzacY"
      }
    },
    {
      "cell_type": "code",
      "source": [
        "%%file prodcons.go\n",
        "package main\n",
        "\n",
        "import (\n",
        "    \"fmt\"\n",
        ")\n",
        "\n",
        "var ch chan string\n",
        "\n",
        "func producer(id, numproducts int) {\n",
        "    for i := 0; i < numproducts; i++ {\n",
        "        ch <- fmt.Sprintf(\"Product %d made by producer %d\", i, id)\n",
        "    }\n",
        "}\n",
        "\n",
        "func consumer(id, numproducts int) {\n",
        "    for i := 0; i < numproducts; i++ {\n",
        "        product := <- ch\n",
        "        fmt.Printf(\"Consumer %d using %s (%d)\\n\", id, product, i)\n",
        "    }\n",
        "}\n",
        "\n",
        "func main() {\n",
        "    ch = make(chan string)\n",
        "    for i := 0; i < 5; i++ {\n",
        "        go consumer(i, 10)\n",
        "    }\n",
        "    producer(0, 50)\n",
        "}"
      ],
      "metadata": {
        "colab": {
          "base_uri": "https://localhost:8080/"
        },
        "id": "2CrtjcizzZyP",
        "outputId": "f3801770-2cc7-43f9-f74b-a2113f6bc286"
      },
      "execution_count": null,
      "outputs": [
        {
          "output_type": "stream",
          "name": "stdout",
          "text": [
            "Overwriting prodcons.go\n"
          ]
        }
      ]
    },
    {
      "cell_type": "code",
      "source": [
        "!go run prodcons.go"
      ],
      "metadata": {
        "colab": {
          "base_uri": "https://localhost:8080/"
        },
        "id": "RfmOzEoyykD6",
        "outputId": "a938e070-7d38-4202-c93c-82b73d5324a8"
      },
      "execution_count": null,
      "outputs": [
        {
          "output_type": "stream",
          "name": "stdout",
          "text": [
            "Consumer 3 using Product 3 made by producer 0 (0)\n",
            "Consumer 3 using Product 4 made by producer 0 (1)\n",
            "Consumer 3 using Product 5 made by producer 0 (2)\n",
            "Consumer 3 using Product 6 made by producer 0 (3)\n",
            "Consumer 3 using Product 7 made by producer 0 (4)\n",
            "Consumer 3 using Product 8 made by producer 0 (5)\n",
            "Consumer 3 using Product 9 made by producer 0 (6)\n",
            "Consumer 3 using Product 10 made by producer 0 (7)\n",
            "Consumer 3 using Product 11 made by producer 0 (8)\n",
            "Consumer 3 using Product 12 made by producer 0 (9)\n",
            "Consumer 0 using Product 1 made by producer 0 (0)\n",
            "Consumer 0 using Product 13 made by producer 0 (1)\n",
            "Consumer 1 using Product 0 made by producer 0 (0)\n",
            "Consumer 0 using Product 14 made by producer 0 (2)\n",
            "Consumer 4 using Product 15 made by producer 0 (0)\n",
            "Consumer 4 using Product 18 made by producer 0 (1)\n",
            "Consumer 0 using Product 17 made by producer 0 (3)\n",
            "Consumer 1 using Product 16 made by producer 0 (1)\n",
            "Consumer 2 using Product 2 made by producer 0 (0)\n",
            "Consumer 2 using Product 22 made by producer 0 (1)\n",
            "Consumer 2 using Product 23 made by producer 0 (2)\n",
            "Consumer 2 using Product 24 made by producer 0 (3)\n",
            "Consumer 2 using Product 25 made by producer 0 (4)\n",
            "Consumer 2 using Product 26 made by producer 0 (5)\n",
            "Consumer 2 using Product 27 made by producer 0 (6)\n",
            "Consumer 2 using Product 28 made by producer 0 (7)\n",
            "Consumer 2 using Product 29 made by producer 0 (8)\n",
            "Consumer 2 using Product 30 made by producer 0 (9)\n",
            "Consumer 1 using Product 21 made by producer 0 (2)\n",
            "Consumer 1 using Product 31 made by producer 0 (3)\n",
            "Consumer 1 using Product 32 made by producer 0 (4)\n",
            "Consumer 1 using Product 33 made by producer 0 (5)\n",
            "Consumer 1 using Product 34 made by producer 0 (6)\n",
            "Consumer 1 using Product 35 made by producer 0 (7)\n",
            "Consumer 0 using Product 20 made by producer 0 (4)\n",
            "Consumer 4 using Product 19 made by producer 0 (2)\n",
            "Consumer 4 using Product 38 made by producer 0 (3)\n",
            "Consumer 0 using Product 37 made by producer 0 (5)\n",
            "Consumer 0 using Product 40 made by producer 0 (6)\n",
            "Consumer 4 using Product 39 made by producer 0 (4)\n",
            "Consumer 4 using Product 42 made by producer 0 (5)\n",
            "Consumer 4 using Product 43 made by producer 0 (6)\n",
            "Consumer 4 using Product 44 made by producer 0 (7)\n",
            "Consumer 4 using Product 45 made by producer 0 (8)\n",
            "Consumer 4 using Product 46 made by producer 0 (9)\n",
            "Consumer 0 using Product 41 made by producer 0 (7)\n",
            "Consumer 1 using Product 36 made by producer 0 (8)\n",
            "Consumer 1 using Product 48 made by producer 0 (9)\n",
            "Consumer 0 using Product 47 made by producer 0 (8)\n",
            "Consumer 0 using Product 49 made by producer 0 (9)\n"
          ]
        }
      ]
    },
    {
      "cell_type": "markdown",
      "source": [
        "# Async Channel"
      ],
      "metadata": {
        "id": "ECY69HbW2zRv"
      }
    },
    {
      "cell_type": "code",
      "source": [
        "%%file chan3.go\n",
        "package main\n",
        "\n",
        "import (\n",
        "    \"fmt\"\n",
        ")\n",
        "\n",
        "func main() {\n",
        "    ch := make(chan string, 1) // asynchronous channel\n",
        "\n",
        "    ch <- \"Hola\";\n",
        "    // ch <- \"Hola\"; // descoméntame y explica lo que ocurre\n",
        "\n",
        "    fmt.Printf(\"%s, Mundo!\", <-ch)\n",
        "}"
      ],
      "metadata": {
        "colab": {
          "base_uri": "https://localhost:8080/"
        },
        "id": "Cj551IAz1T0W",
        "outputId": "4ed0dc08-107c-42e5-f09c-9aa0c12a04ac"
      },
      "execution_count": null,
      "outputs": [
        {
          "output_type": "stream",
          "name": "stdout",
          "text": [
            "Overwriting chan3.go\n"
          ]
        }
      ]
    },
    {
      "cell_type": "code",
      "source": [
        "!go run chan3.go"
      ],
      "metadata": {
        "colab": {
          "base_uri": "https://localhost:8080/"
        },
        "id": "Fr0ey8Ou28uF",
        "outputId": "22c3cfe4-aad5-460b-8414-c9f816b68eac"
      },
      "execution_count": null,
      "outputs": [
        {
          "output_type": "stream",
          "name": "stdout",
          "text": [
            "fatal error: all goroutines are asleep - deadlock!\n",
            "\n",
            "goroutine 1 [chan send]:\n",
            "main.main()\n",
            "\t/content/chan3.go:11 +0x73\n",
            "exit status 2\n"
          ]
        }
      ]
    },
    {
      "cell_type": "code",
      "source": [
        "%%file asyncprodcons.go\n",
        "package main\n",
        "\n",
        "import (\n",
        "    \"fmt\"\n",
        ")\n",
        "\n",
        "var ch chan string\n",
        "\n",
        "func producer(id, numproducts int) {\n",
        "    for i := 0; i < numproducts; i++ {\n",
        "        ch <- fmt.Sprintf(\"Product %d made by producer %d\", i, id)\n",
        "    }\n",
        "}\n",
        "\n",
        "func consumer(id, numproducts int) {\n",
        "    for i := 0; i < numproducts; i++ {\n",
        "        product := <- ch\n",
        "        fmt.Printf(\"Consumer %d using %s (%d)\\n\", id, product, i)\n",
        "    }\n",
        "}\n",
        "\n",
        "func main() {\n",
        "    ch = make(chan string, 10)\n",
        "    for i := 0; i < 5; i++ {\n",
        "        go consumer(i, 10)\n",
        "    }\n",
        "    producer(0, 50)\n",
        "}"
      ],
      "metadata": {
        "colab": {
          "base_uri": "https://localhost:8080/"
        },
        "id": "s8yEiOmD2-0C",
        "outputId": "ed3939ca-4cea-48e5-8b4d-289397e015cc"
      },
      "execution_count": null,
      "outputs": [
        {
          "output_type": "stream",
          "name": "stdout",
          "text": [
            "Writing asyncprodcons.go\n"
          ]
        }
      ]
    },
    {
      "cell_type": "code",
      "source": [
        "!go run asyncprodcons.go"
      ],
      "metadata": {
        "colab": {
          "base_uri": "https://localhost:8080/"
        },
        "id": "LjfLIjkQ3--f",
        "outputId": "92cb117a-2c6b-4514-cc8d-6fa997f844cd"
      },
      "execution_count": null,
      "outputs": [
        {
          "output_type": "stream",
          "name": "stdout",
          "text": [
            "Consumer 3 using Product 3 made by producer 0 (0)\n",
            "Consumer 3 using Product 4 made by producer 0 (1)\n",
            "Consumer 3 using Product 5 made by producer 0 (2)\n",
            "Consumer 3 using Product 6 made by producer 0 (3)\n",
            "Consumer 3 using Product 7 made by producer 0 (4)\n",
            "Consumer 3 using Product 8 made by producer 0 (5)\n",
            "Consumer 3 using Product 9 made by producer 0 (6)\n",
            "Consumer 3 using Product 10 made by producer 0 (7)\n",
            "Consumer 3 using Product 11 made by producer 0 (8)\n",
            "Consumer 3 using Product 12 made by producer 0 (9)\n",
            "Consumer 1 using Product 0 made by producer 0 (0)\n",
            "Consumer 0 using Product 1 made by producer 0 (0)\n",
            "Consumer 0 using Product 15 made by producer 0 (1)\n",
            "Consumer 0 using Product 16 made by producer 0 (2)\n",
            "Consumer 2 using Product 2 made by producer 0 (0)\n",
            "Consumer 2 using Product 18 made by producer 0 (1)\n",
            "Consumer 2 using Product 19 made by producer 0 (2)\n",
            "Consumer 2 using Product 20 made by producer 0 (3)\n",
            "Consumer 2 using Product 21 made by producer 0 (4)\n",
            "Consumer 2 using Product 22 made by producer 0 (5)\n",
            "Consumer 2 using Product 23 made by producer 0 (6)\n",
            "Consumer 2 using Product 24 made by producer 0 (7)\n",
            "Consumer 2 using Product 25 made by producer 0 (8)\n",
            "Consumer 2 using Product 26 made by producer 0 (9)\n",
            "Consumer 0 using Product 17 made by producer 0 (3)\n",
            "Consumer 0 using Product 27 made by producer 0 (4)\n",
            "Consumer 0 using Product 28 made by producer 0 (5)\n",
            "Consumer 0 using Product 29 made by producer 0 (6)\n",
            "Consumer 1 using Product 13 made by producer 0 (1)\n",
            "Consumer 1 using Product 31 made by producer 0 (2)\n",
            "Consumer 1 using Product 32 made by producer 0 (3)\n",
            "Consumer 1 using Product 33 made by producer 0 (4)\n",
            "Consumer 1 using Product 34 made by producer 0 (5)\n",
            "Consumer 1 using Product 35 made by producer 0 (6)\n",
            "Consumer 1 using Product 36 made by producer 0 (7)\n",
            "Consumer 1 using Product 37 made by producer 0 (8)\n",
            "Consumer 1 using Product 38 made by producer 0 (9)\n",
            "Consumer 4 using Product 14 made by producer 0 (0)\n",
            "Consumer 4 using Product 39 made by producer 0 (1)\n",
            "Consumer 4 using Product 40 made by producer 0 (2)\n",
            "Consumer 4 using Product 41 made by producer 0 (3)\n",
            "Consumer 4 using Product 42 made by producer 0 (4)\n",
            "Consumer 4 using Product 43 made by producer 0 (5)\n",
            "Consumer 4 using Product 44 made by producer 0 (6)\n",
            "Consumer 4 using Product 45 made by producer 0 (7)\n",
            "Consumer 4 using Product 46 made by producer 0 (8)\n",
            "Consumer 4 using Product 47 made by producer 0 (9)\n",
            "Consumer 0 using Product 30 made by producer 0 (7)\n"
          ]
        }
      ]
    },
    {
      "cell_type": "markdown",
      "source": [
        "# grep(cat(\"archivo.txt\"), \"js\")"
      ],
      "metadata": {
        "id": "9KawodoU7N6N"
      }
    },
    {
      "cell_type": "code",
      "source": [
        ""
      ],
      "metadata": {
        "id": "RL97Q0F04Brv"
      },
      "execution_count": null,
      "outputs": []
    }
  ]
}