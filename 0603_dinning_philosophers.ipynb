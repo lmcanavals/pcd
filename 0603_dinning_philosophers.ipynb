{
  "nbformat": 4,
  "nbformat_minor": 0,
  "metadata": {
    "colab": {
      "name": "0603-dinning_philosophers.ipynb",
      "provenance": [],
      "authorship_tag": "ABX9TyNmbDs4AsI8AOil/0tjqVhP",
      "include_colab_link": true
    },
    "kernelspec": {
      "name": "python3",
      "display_name": "Python 3"
    },
    "language_info": {
      "name": "python"
    }
  },
  "cells": [
    {
      "cell_type": "markdown",
      "metadata": {
        "id": "view-in-github",
        "colab_type": "text"
      },
      "source": [
        "<a href=\"https://colab.research.google.com/github/lmcanavals/pcd/blob/master/0603_dinning_philosophers.ipynb\" target=\"_parent\"><img src=\"https://colab.research.google.com/assets/colab-badge.svg\" alt=\"Open In Colab\"/></a>"
      ]
    },
    {
      "cell_type": "code",
      "execution_count": null,
      "metadata": {
        "id": "XCRm24rrdxmp"
      },
      "outputs": [],
      "source": [
        "%%bash\n",
        "sudo apt install spin\n",
        "spin --version"
      ]
    },
    {
      "cell_type": "code",
      "source": [
        "%%file phil1.pml\n",
        "#define wait(s) atomic { s > 0 -> s-- }\n",
        "#define signal(s) s++\n",
        "\n",
        "byte forks[5] = { 1 }\n",
        "\n",
        "active[5] proctype Philosopher() {\n",
        "    byte i = _pid\n",
        "    do\n",
        "    ::\n",
        "      // think\n",
        "      wait(forks[i])\n",
        "      wait(forks[(i+1) % 5])\n",
        "      // eat\n",
        "      signal(forks[i])\n",
        "      signal(forks[(i+1) % 5])\n",
        "    od\n",
        "}"
      ],
      "metadata": {
        "colab": {
          "base_uri": "https://localhost:8080/"
        },
        "id": "IzZrWrJAdz0u",
        "outputId": "1a63f410-8961-4f9c-e0e9-bb799b13257d"
      },
      "execution_count": 3,
      "outputs": [
        {
          "output_type": "stream",
          "name": "stdout",
          "text": [
            "Writing phil1.pml\n"
          ]
        }
      ]
    },
    {
      "cell_type": "code",
      "source": [
        "!spin phil1.pml"
      ],
      "metadata": {
        "colab": {
          "base_uri": "https://localhost:8080/"
        },
        "id": "TMwB3kv0e2A3",
        "outputId": "b65f62da-0223-4fce-cda6-39cd1c67eee0"
      },
      "execution_count": 4,
      "outputs": [
        {
          "output_type": "stream",
          "name": "stdout",
          "text": [
            "      timeout\n",
            "#processes: 5\n",
            "\t\tforks[0] = 0\n",
            "\t\tforks[1] = 0\n",
            "\t\tforks[2] = 0\n",
            "\t\tforks[3] = 0\n",
            "\t\tforks[4] = 0\n",
            " 10:\tproc  4 (Philosopher:1) phil1.pml:12 (state 6)\n",
            " 10:\tproc  3 (Philosopher:1) phil1.pml:12 (state 6)\n",
            " 10:\tproc  2 (Philosopher:1) phil1.pml:12 (state 6)\n",
            " 10:\tproc  1 (Philosopher:1) phil1.pml:12 (state 6)\n",
            " 10:\tproc  0 (Philosopher:1) phil1.pml:12 (state 6)\n",
            "5 processes created\n"
          ]
        }
      ]
    },
    {
      "cell_type": "code",
      "source": [
        "%%bash\n",
        "rm *trail\n",
        "F=phil1.pml\n",
        "spin -a $F && gcc pan.c && ./a.out\n",
        "[ -f $F.trail ] && spin -t $F"
      ],
      "metadata": {
        "colab": {
          "base_uri": "https://localhost:8080/"
        },
        "id": "ZAdlzAhpeh7o",
        "outputId": "fc381b36-30b0-4def-e1e6-bc485fee44f2"
      },
      "execution_count": 5,
      "outputs": [
        {
          "output_type": "stream",
          "name": "stdout",
          "text": [
            "pan:1: invalid end state (at depth 56)\n",
            "pan: wrote phil1.pml.trail\n",
            "\n",
            "(Spin Version 6.4.6 -- 2 December 2016)\n",
            "Warning: Search not completed\n",
            "\t+ Partial Order Reduction\n",
            "\n",
            "Full statespace search for:\n",
            "\tnever claim         \t- (none specified)\n",
            "\tassertion violations\t+\n",
            "\tacceptance   cycles \t- (not selected)\n",
            "\tinvalid end states\t+\n",
            "\n",
            "State-vector 52 byte, depth reached 57, errors: 1\n",
            "       58 states, stored\n",
            "       16 states, matched\n",
            "       74 transitions (= stored+matched)\n",
            "        0 atomic steps\n",
            "hash conflicts:         0 (resolved)\n",
            "\n",
            "Stats on memory usage (in Megabytes):\n",
            "    0.004\tequivalent memory usage for states (stored*(State-vector + overhead))\n",
            "    0.291\tactual memory usage for states\n",
            "  128.000\tmemory used for hash table (-w24)\n",
            "    0.534\tmemory used for DFS stack (-m10000)\n",
            "  128.730\ttotal actual memory usage\n",
            "\n",
            "\n",
            "\n",
            "pan: elapsed time 0 seconds\n",
            "spin: trail ends after 57 steps\n",
            "#processes: 5\n",
            "\t\tforks[0] = 0\n",
            "\t\tforks[1] = 0\n",
            "\t\tforks[2] = 0\n",
            "\t\tforks[3] = 0\n",
            "\t\tforks[4] = 0\n",
            " 57:\tproc  4 (Philosopher:1) phil1.pml:12 (state 6)\n",
            " 57:\tproc  3 (Philosopher:1) phil1.pml:12 (state 6)\n",
            " 57:\tproc  2 (Philosopher:1) phil1.pml:12 (state 6)\n",
            " 57:\tproc  1 (Philosopher:1) phil1.pml:12 (state 6)\n",
            " 57:\tproc  0 (Philosopher:1) phil1.pml:12 (state 6)\n",
            "5 processes created\n"
          ]
        },
        {
          "output_type": "stream",
          "name": "stderr",
          "text": [
            "rm: cannot remove '*trail': No such file or directory\n"
          ]
        }
      ]
    },
    {
      "cell_type": "code",
      "source": [
        "%%file phil2.pml\n",
        "#define wait(s) atomic { s > 0 -> s-- }\n",
        "#define signal(s) s++\n",
        "\n",
        "byte forks[5] = { 1 }\n",
        "byte room = 4\n",
        "\n",
        "active[5] proctype Philosopher() {\n",
        "    byte i = _pid\n",
        "    do\n",
        "    ::\n",
        "      // think\n",
        "      wait(room)\n",
        "      wait(forks[i])\n",
        "      wait(forks[(i+1) % 5])\n",
        "      // eat\n",
        "      signal(forks[i])\n",
        "      signal(forks[(i+1) % 5])\n",
        "      signal(room)\n",
        "    od\n",
        "}"
      ],
      "metadata": {
        "colab": {
          "base_uri": "https://localhost:8080/"
        },
        "id": "0HfcmGKZe8Vd",
        "outputId": "3fd25c01-fa4c-4cc4-b593-188fdfca27f4"
      },
      "execution_count": 8,
      "outputs": [
        {
          "output_type": "stream",
          "name": "stdout",
          "text": [
            "Writing phil2.pml\n"
          ]
        }
      ]
    },
    {
      "cell_type": "code",
      "source": [
        "%%bash\n",
        "rm *trail\n",
        "F=phil2.pml\n",
        "spin -a $F && gcc pan.c && ./a.out\n",
        "[ -f $F.trail ] && spin -t $F"
      ],
      "metadata": {
        "colab": {
          "base_uri": "https://localhost:8080/"
        },
        "id": "cCG-iHqff9Ji",
        "outputId": "f00bf6ea-db47-43b6-abb4-6c58b2900509"
      },
      "execution_count": 9,
      "outputs": [
        {
          "output_type": "stream",
          "name": "stdout",
          "text": [
            "\n",
            "(Spin Version 6.4.6 -- 2 December 2016)\n",
            "\t+ Partial Order Reduction\n",
            "\n",
            "Full statespace search for:\n",
            "\tnever claim         \t- (none specified)\n",
            "\tassertion violations\t+\n",
            "\tacceptance   cycles \t- (not selected)\n",
            "\tinvalid end states\t+\n",
            "\n",
            "State-vector 52 byte, depth reached 2305, errors: 0\n",
            "     3111 states, stored\n",
            "     9280 states, matched\n",
            "    12391 transitions (= stored+matched)\n",
            "        0 atomic steps\n",
            "hash conflicts:        35 (resolved)\n",
            "\n",
            "Stats on memory usage (in Megabytes):\n",
            "    0.237\tequivalent memory usage for states (stored*(State-vector + overhead))\n",
            "    0.389\tactual memory usage for states\n",
            "  128.000\tmemory used for hash table (-w24)\n",
            "    0.534\tmemory used for DFS stack (-m10000)\n",
            "  128.827\ttotal actual memory usage\n",
            "\n",
            "\n",
            "unreached in proctype Philosopher\n",
            "\tphil2.pml:20, state 16, \"-end-\"\n",
            "\t(1 of 16 states)\n",
            "\n",
            "pan: elapsed time 0 seconds\n"
          ]
        },
        {
          "output_type": "stream",
          "name": "stderr",
          "text": [
            "rm: cannot remove '*trail': No such file or directory\n"
          ]
        }
      ]
    },
    {
      "cell_type": "code",
      "source": [
        "%%file phil3.pml\n",
        "#define wait(s) atomic { s > 0 -> s-- }\n",
        "#define signal(s) s++\n",
        "\n",
        "byte forks[5] = { 1 }\n",
        "\n",
        "active[4] proctype Philosopher() {\n",
        "    byte i = _pid\n",
        "    do\n",
        "    ::\n",
        "      // think\n",
        "      wait(forks[i])\n",
        "      wait(forks[i+1])\n",
        "      // eat\n",
        "      signal(forks[i])\n",
        "      signal(forks[i+1])\n",
        "    od\n",
        "}\n",
        "\n",
        "active proctype Lefty() {\n",
        "    byte i = _pid\n",
        "    do\n",
        "    ::\n",
        "      // think\n",
        "      wait(forks[0])\n",
        "      wait(forks[4])\n",
        "      // eat\n",
        "      signal(forks[0])\n",
        "      signal(forks[4])\n",
        "    od\n",
        "}"
      ],
      "metadata": {
        "colab": {
          "base_uri": "https://localhost:8080/"
        },
        "id": "d1FUHp-MgBSm",
        "outputId": "9e6f08dc-ebd1-4e3c-9e11-d9fc9146cbd1"
      },
      "execution_count": 10,
      "outputs": [
        {
          "output_type": "stream",
          "name": "stdout",
          "text": [
            "Writing phil3.pml\n"
          ]
        }
      ]
    },
    {
      "cell_type": "code",
      "source": [
        "%%bash\n",
        "rm *trail\n",
        "F=phil3.pml\n",
        "spin -a $F && gcc pan.c && ./a.out\n",
        "[ -f $F.trail ] && spin -t $F"
      ],
      "metadata": {
        "colab": {
          "base_uri": "https://localhost:8080/"
        },
        "id": "lXqhF_0Vg_Pp",
        "outputId": "90976417-ba98-4283-ed9a-c4dc61a6dbc7"
      },
      "execution_count": 11,
      "outputs": [
        {
          "output_type": "stream",
          "name": "stdout",
          "text": [
            "\n",
            "(Spin Version 6.4.6 -- 2 December 2016)\n",
            "\t+ Partial Order Reduction\n",
            "\n",
            "Full statespace search for:\n",
            "\tnever claim         \t- (none specified)\n",
            "\tassertion violations\t+\n",
            "\tacceptance   cycles \t- (not selected)\n",
            "\tinvalid end states\t+\n",
            "\n",
            "State-vector 52 byte, depth reached 174, errors: 0\n",
            "      243 states, stored\n",
            "      568 states, matched\n",
            "      811 transitions (= stored+matched)\n",
            "        0 atomic steps\n",
            "hash conflicts:         0 (resolved)\n",
            "\n",
            "Stats on memory usage (in Megabytes):\n",
            "    0.019\tequivalent memory usage for states (stored*(State-vector + overhead))\n",
            "    0.290\tactual memory usage for states\n",
            "  128.000\tmemory used for hash table (-w24)\n",
            "    0.534\tmemory used for DFS stack (-m10000)\n",
            "  128.730\ttotal actual memory usage\n",
            "\n",
            "\n",
            "unreached in proctype Philosopher\n",
            "\tphil3.pml:17, state 12, \"-end-\"\n",
            "\t(1 of 12 states)\n",
            "unreached in proctype Lefty\n",
            "\tphil3.pml:30, state 12, \"-end-\"\n",
            "\t(1 of 12 states)\n",
            "\n",
            "pan: elapsed time 0 seconds\n"
          ]
        },
        {
          "output_type": "stream",
          "name": "stderr",
          "text": [
            "rm: cannot remove '*trail': No such file or directory\n"
          ]
        }
      ]
    },
    {
      "cell_type": "code",
      "source": [
        ""
      ],
      "metadata": {
        "id": "UW5PFeo0hB7o"
      },
      "execution_count": null,
      "outputs": []
    }
  ]
}