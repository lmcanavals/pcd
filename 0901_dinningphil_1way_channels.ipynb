{
  "nbformat": 4,
  "nbformat_minor": 0,
  "metadata": {
    "colab": {
      "provenance": [],
      "authorship_tag": "ABX9TyPEiT4GLujuBCo0suyKeExA",
      "include_colab_link": true
    },
    "kernelspec": {
      "name": "python3",
      "display_name": "Python 3"
    },
    "language_info": {
      "name": "python"
    }
  },
  "cells": [
    {
      "cell_type": "markdown",
      "metadata": {
        "id": "view-in-github",
        "colab_type": "text"
      },
      "source": [
        "<a href=\"https://colab.research.google.com/github/lmcanavals/pcd/blob/master/0901_dinningphil_1way_channels.ipynb\" target=\"_parent\"><img src=\"https://colab.research.google.com/assets/colab-badge.svg\" alt=\"Open In Colab\"/></a>"
      ]
    },
    {
      "cell_type": "code",
      "source": [
        "!apt-get install golang-go"
      ],
      "metadata": {
        "id": "EsDB8M-O6P1r"
      },
      "execution_count": null,
      "outputs": []
    },
    {
      "cell_type": "code",
      "execution_count": 48,
      "metadata": {
        "colab": {
          "base_uri": "https://localhost:8080/"
        },
        "id": "ufJlQC1u42tW",
        "outputId": "ee46d1ef-813e-4122-d38a-d44d4fbb4a9d"
      },
      "outputs": [
        {
          "output_type": "stream",
          "name": "stdout",
          "text": [
            "Overwriting phils.go\n"
          ]
        }
      ],
      "source": [
        "%%file phils.go\n",
        "package main\n",
        "\n",
        "import (\n",
        "\t\"fmt\"\n",
        "    \"time\"\n",
        ")\n",
        "\n",
        "func fork(fpii_1, fpii chan<- bool, pfii_1, pfii <- chan bool) {\n",
        "\tfor {\n",
        "\t\tselect {\n",
        "\t\tcase fpii_1 <- true: <-pfii_1\n",
        "\t\tcase fpii <- true: <-pfii\n",
        "\t\t}\n",
        "\t}\n",
        "}\n",
        "\n",
        "func phil(fpii, fpi_1i <-chan bool, pfii, pfi_1i chan<- bool) {\n",
        "    for {\n",
        "        // thinking\n",
        "        select {\n",
        "        case <-fpi_1i: <-fpii\n",
        "        case <-fpii: <-fpi_1i\n",
        "        }\n",
        "        // eating\n",
        "        select {\n",
        "        case pfi_1i <- true: pfii <- true\n",
        "        case pfii <- true: pfi_1i <- true\n",
        "        }\n",
        "    }\n",
        "}\n",
        "\n",
        "func main() {\n",
        "    n := 5\n",
        "    fp := make([]chan bool, 2 * n)\n",
        "    pf := make([]chan bool, 2 * n)\n",
        "    for i := range fp {\n",
        "        fp[i] = make(chan bool)\n",
        "        pf[i] = make(chan bool)\n",
        "    }\n",
        "\n",
        "    for i := range fp {\n",
        "        i_1 := i - 1\n",
        "        if i_1 == -1 {\n",
        "            i_1 = len(fp) - 1\n",
        "        }\n",
        "        go fork(fp[i_1], fp[i], pf[i_1], pf[i])\n",
        "        i_1 = (i + 1) % (2*n)\n",
        "        go fork(fp[i], fp[i_1], pf[i], pf[i_1])\n",
        "    }\n",
        "    time.Sleep(10*time.Second)\n",
        "    fmt.Println(\"Bye\")\n",
        "}"
      ]
    },
    {
      "cell_type": "code",
      "source": [
        "%%bash\n",
        "go run phils.go\n",
        "#go build phils.go\n",
        "#./phils &\n",
        "#FOO_PID=$!\n",
        "#sleep 10\n",
        "#kill -9 $FOO_PID"
      ],
      "metadata": {
        "colab": {
          "base_uri": "https://localhost:8080/"
        },
        "id": "JEl57sJp49HP",
        "outputId": "7bda1bb4-49a7-4dbd-d787-c402edc41b41"
      },
      "execution_count": 49,
      "outputs": [
        {
          "output_type": "stream",
          "name": "stdout",
          "text": [
            "Bye\n"
          ]
        }
      ]
    }
  ]
}