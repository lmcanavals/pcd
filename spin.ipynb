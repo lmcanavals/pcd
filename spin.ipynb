{
  "nbformat": 4,
  "nbformat_minor": 0,
  "metadata": {
    "colab": {
      "name": "spin.ipynb",
      "provenance": [],
      "authorship_tag": "ABX9TyOJv/tVtGD3tDLjrOmnnx5r",
      "include_colab_link": true
    },
    "kernelspec": {
      "name": "python3",
      "display_name": "Python 3"
    },
    "language_info": {
      "name": "python"
    }
  },
  "cells": [
    {
      "cell_type": "markdown",
      "metadata": {
        "id": "view-in-github",
        "colab_type": "text"
      },
      "source": [
        "<a href=\"https://colab.research.google.com/github/lmcanavals/pcd/blob/master/spin.ipynb\" target=\"_parent\"><img src=\"https://colab.research.google.com/assets/colab-badge.svg\" alt=\"Open In Colab\"/></a>"
      ]
    },
    {
      "cell_type": "code",
      "execution_count": 2,
      "metadata": {
        "colab": {
          "base_uri": "https://localhost:8080/"
        },
        "id": "UOYWqwvrmJrE",
        "outputId": "911ca00d-47e4-4ee5-a315-88e646d44d25"
      },
      "outputs": [
        {
          "output_type": "stream",
          "name": "stdout",
          "text": [
            "\u001b[01m\u001b[Kgcc:\u001b[m\u001b[K \u001b[01;31m\u001b[Kfatal error: \u001b[m\u001b[Kno input files\n",
            "compilation terminated.\n"
          ]
        }
      ],
      "source": [
        "!gcc"
      ]
    },
    {
      "cell_type": "code",
      "source": [
        "!sudo apt install spin"
      ],
      "metadata": {
        "id": "oNUFeLySmgGf"
      },
      "execution_count": null,
      "outputs": []
    },
    {
      "cell_type": "code",
      "source": [
        "!spin"
      ],
      "metadata": {
        "colab": {
          "base_uri": "https://localhost:8080/"
        },
        "id": "sCQhdZK7mp1z",
        "outputId": "3286df81-4291-468e-ee72-8ec124600336"
      },
      "execution_count": 4,
      "outputs": [
        {
          "output_type": "stream",
          "name": "stdout",
          "text": [
            "Spin Version 6.4.6 -- 2 December 2016\n",
            "spin: error, no filename specified\n"
          ]
        }
      ]
    },
    {
      "cell_type": "code",
      "source": [
        "%%file prodcons1.pml\n",
        "#define wait(s) atomic { s > 0 -> s-- }\n",
        "#define signal(s) s++\n",
        "\n",
        "#define MAX 5\n",
        "\n",
        "int buffer[MAX]\n",
        "byte pos = 0\n",
        "\n",
        "byte notEmpty = 0\n",
        "\n",
        "inline append(d) {\n",
        "    assert pos < MAX\n",
        "    atomic {\n",
        "        buffer[pos] = d\n",
        "        pos++\n",
        "    }\n",
        "}\n",
        "\n",
        "inline take(d) {\n",
        "    atomic {\n",
        "        pos--\n",
        "        d = buffer[pos]\n",
        "    }\n",
        "}\n",
        "\n",
        "inline produce(d) {\n",
        "    d++\n",
        "}\n",
        "\n",
        "active proctype Producer() {\n",
        "    int d\n",
        "    do\n",
        "    ::\n",
        "      //produce(d)\n",
        "      append(d)\n",
        "      signal(notEmpty)\n",
        "    od\n",
        "}\n",
        "\n",
        "active proctype Consumer() {\n",
        "    int d\n",
        "    do\n",
        "    ::\n",
        "      wait(notEmpty)\n",
        "      take(d)\n",
        "    od\n",
        "}"
      ],
      "metadata": {
        "colab": {
          "base_uri": "https://localhost:8080/"
        },
        "id": "aDH8U9qHm88g",
        "outputId": "d9beb217-0206-499e-c1a0-5dada5c6c2b1"
      },
      "execution_count": 102,
      "outputs": [
        {
          "output_type": "stream",
          "name": "stdout",
          "text": [
            "Overwriting prodcons1.pml\n"
          ]
        }
      ]
    },
    {
      "cell_type": "code",
      "source": [
        "%%bash\n",
        "FILE=prodcons1.pml\n",
        "spin -a $FILE\n",
        "gcc pan.c\n",
        "./a.out\n",
        "[ -f $FILE.trail ] && spin -t $FILE "
      ],
      "metadata": {
        "colab": {
          "base_uri": "https://localhost:8080/"
        },
        "id": "mIm8hkqYpnI0",
        "outputId": "5b0b7ce2-6824-4474-89ee-c6b3f6241995"
      },
      "execution_count": 103,
      "outputs": [
        {
          "output_type": "stream",
          "name": "stdout",
          "text": [
            "pan:1: assertion violated (pos<5) (at depth 26)\n",
            "pan: wrote prodcons1.pml.trail\n",
            "\n",
            "(Spin Version 6.4.6 -- 2 December 2016)\n",
            "Warning: Search not completed\n",
            "\t+ Partial Order Reduction\n",
            "\n",
            "Full statespace search for:\n",
            "\tnever claim         \t- (none specified)\n",
            "\tassertion violations\t+\n",
            "\tacceptance   cycles \t- (not selected)\n",
            "\tinvalid end states\t+\n",
            "\n",
            "State-vector 48 byte, depth reached 26, errors: 1\n",
            "       27 states, stored\n",
            "       19 states, matched\n",
            "       46 transitions (= stored+matched)\n",
            "        0 atomic steps\n",
            "hash conflicts:         0 (resolved)\n",
            "\n",
            "Stats on memory usage (in Megabytes):\n",
            "    0.002\tequivalent memory usage for states (stored*(State-vector + overhead))\n",
            "    0.290\tactual memory usage for states\n",
            "  128.000\tmemory used for hash table (-w24)\n",
            "    0.534\tmemory used for DFS stack (-m10000)\n",
            "  128.730\ttotal actual memory usage\n",
            "\n",
            "\n",
            "\n",
            "pan: elapsed time 0 seconds\n",
            "spin: prodcons1.pml:12, Error: assertion violated\n",
            "spin: text of failed assertion: assert((pos<5))\n",
            "spin: trail ends after 27 steps\n",
            "#processes: 2\n",
            "\t\tbuffer[0] = 0\n",
            "\t\tbuffer[1] = 0\n",
            "\t\tbuffer[2] = 0\n",
            "\t\tbuffer[3] = 0\n",
            "\t\tbuffer[4] = 0\n",
            "\t\tpos = 5\n",
            "\t\tnotEmpty = 4\n",
            " 27:\tproc  1 (Consumer:1) prodcons1.pml:19 (state 7)\n",
            " 27:\tproc  0 (Producer:1) prodcons1.pml:13 (state 4)\n",
            "2 processes created\n"
          ]
        }
      ]
    },
    {
      "cell_type": "code",
      "source": [
        "%%file prodcons2.pml\n",
        "#define wait(s) atomic { s > 0 -> s-- }\n",
        "#define signal(s) s++\n",
        "\n",
        "#define MAX 5\n",
        "\n",
        "//int buffer[MAX]\n",
        "byte pos = 0\n",
        "\n",
        "byte notEmpty = 0\n",
        "byte notFull = MAX\n",
        "\n",
        "inline append(d) {\n",
        "    assert pos < MAX\n",
        "    atomic {\n",
        "        //buffer[pos] = d\n",
        "        pos++\n",
        "    }\n",
        "}\n",
        "\n",
        "inline take(d) {\n",
        "    atomic {\n",
        "        pos--\n",
        "        //d = buffer[pos]\n",
        "    }\n",
        "}\n",
        "\n",
        "//inline produce(d) {\n",
        "//    d++\n",
        "//}\n",
        "\n",
        "active proctype Producer() {\n",
        "    int d\n",
        "    do\n",
        "    ::\n",
        "      wait(notFull)\n",
        "      //produce(d)\n",
        "      append(d)\n",
        "      signal(notEmpty)\n",
        "    od\n",
        "}\n",
        "\n",
        "active proctype Consumer() {\n",
        "    int d\n",
        "    do\n",
        "    ::\n",
        "      wait(notEmpty)\n",
        "      take(d)\n",
        "      signal(notFull)\n",
        "    od\n",
        "}"
      ],
      "metadata": {
        "colab": {
          "base_uri": "https://localhost:8080/"
        },
        "id": "HJznVK3_qQ8h",
        "outputId": "75fd1f5a-9b68-458c-88f4-12cbe06fc8e7"
      },
      "execution_count": 100,
      "outputs": [
        {
          "output_type": "stream",
          "name": "stdout",
          "text": [
            "Overwriting prodcons2.pml\n"
          ]
        }
      ]
    },
    {
      "cell_type": "code",
      "source": [
        "%%bash\n",
        "FILE=prodcons2.pml\n",
        "spin -a $FILE\n",
        "gcc pan.c\n",
        "./a.out\n",
        "[ -f $FILE.trail ] && spin -t $FILE"
      ],
      "metadata": {
        "colab": {
          "base_uri": "https://localhost:8080/"
        },
        "id": "-NK6ZevGu0Ke",
        "outputId": "b1d61056-fd18-4ec8-db78-0910082bf56a"
      },
      "execution_count": 101,
      "outputs": [
        {
          "output_type": "stream",
          "name": "stdout",
          "text": [
            "\n",
            "(Spin Version 6.4.6 -- 2 December 2016)\n",
            "\t+ Partial Order Reduction\n",
            "\n",
            "Full statespace search for:\n",
            "\tnever claim         \t- (none specified)\n",
            "\tassertion violations\t+\n",
            "\tacceptance   cycles \t- (not selected)\n",
            "\tinvalid end states\t+\n",
            "\n",
            "State-vector 32 byte, depth reached 50, errors: 0\n",
            "       55 states, stored\n",
            "       49 states, matched\n",
            "      104 transitions (= stored+matched)\n",
            "        0 atomic steps\n",
            "hash conflicts:         0 (resolved)\n",
            "\n",
            "Stats on memory usage (in Megabytes):\n",
            "    0.003\tequivalent memory usage for states (stored*(State-vector + overhead))\n",
            "    0.290\tactual memory usage for states\n",
            "  128.000\tmemory used for hash table (-w24)\n",
            "    0.534\tmemory used for DFS stack (-m10000)\n",
            "  128.730\ttotal actual memory usage\n",
            "\n",
            "\n",
            "unreached in proctype Producer\n",
            "\tprodcons2.pml:40, state 12, \"-end-\"\n",
            "\t(1 of 12 states)\n",
            "unreached in proctype Consumer\n",
            "\tprodcons2.pml:50, state 11, \"-end-\"\n",
            "\t(1 of 11 states)\n",
            "\n",
            "pan: elapsed time 0.01 seconds\n"
          ]
        }
      ]
    },
    {
      "cell_type": "code",
      "source": [
        "%%file readerswriters.pml\n",
        "#define wait(s) atomic { s > 0 -> s-- }\n",
        "#define signal(s) s++\n",
        "\n",
        "// semaphores\n",
        "byte writerAccess = 1\n",
        "byte readerAccess = 1\n",
        "\n",
        "// counter\n",
        "byte numWriters = 0\n",
        "byte numReaders = 0\n",
        "\n",
        "active proctype Writer() {\n",
        "    do\n",
        "    ::\n",
        "      wait(writerAccess)\n",
        "      numWriters++\n",
        "      assert numWriters <= 1 && numReaders <= 1\n",
        "      numWriters--\n",
        "      signal(writerAccess)\n",
        "    od\n",
        "}\n",
        "\n",
        "active[4] proctype Reader() {\n",
        "    do\n",
        "    ::\n",
        "      wait(readerAccess)\n",
        "      numReaders++\n",
        "      if\n",
        "      :: numReaders == 1 -> wait(writerAccess)\n",
        "      :: else -> skip\n",
        "      fi\n",
        "      signal(readerAccess)\n",
        "\n",
        "      assert numWriters == 0\n",
        "\n",
        "      wait(readerAccess)\n",
        "      numReaders--\n",
        "      if\n",
        "      :: numReaders == 0 -> signal(writerAccess)\n",
        "      :: else -> skip\n",
        "      fi\n",
        "      signal(readerAccess)\n",
        "    od\n",
        "}"
      ],
      "metadata": {
        "colab": {
          "base_uri": "https://localhost:8080/"
        },
        "id": "1jQpxykezERs",
        "outputId": "df0d6c25-4c2a-45ca-977a-00a2a161b3ac"
      },
      "execution_count": 109,
      "outputs": [
        {
          "output_type": "stream",
          "name": "stdout",
          "text": [
            "Overwriting readerswriters.pml\n"
          ]
        }
      ]
    },
    {
      "cell_type": "code",
      "source": [
        "%%bash\n",
        "FILE=readerswriters.pml\n",
        "rm pan*\n",
        "rm *trail\n",
        "spin -a $FILE && gcc pan.c && ./a.out\n",
        "[ -f $FILE.trail ] && spin -t $FILE"
      ],
      "metadata": {
        "colab": {
          "base_uri": "https://localhost:8080/"
        },
        "id": "4fQa66pf8a9V",
        "outputId": "c1da1b70-a462-4703-84a4-b76ffb52cb61"
      },
      "execution_count": 112,
      "outputs": [
        {
          "output_type": "stream",
          "name": "stdout",
          "text": [
            "\n",
            "(Spin Version 6.4.6 -- 2 December 2016)\n",
            "\t+ Partial Order Reduction\n",
            "\n",
            "Full statespace search for:\n",
            "\tnever claim         \t- (none specified)\n",
            "\tassertion violations\t+\n",
            "\tacceptance   cycles \t- (not selected)\n",
            "\tinvalid end states\t+\n",
            "\n",
            "State-vector 52 byte, depth reached 305, errors: 0\n",
            "     1013 states, stored\n",
            "      976 states, matched\n",
            "     1989 transitions (= stored+matched)\n",
            "        0 atomic steps\n",
            "hash conflicts:        23 (resolved)\n",
            "\n",
            "Stats on memory usage (in Megabytes):\n",
            "    0.077\tequivalent memory usage for states (stored*(State-vector + overhead))\n",
            "    0.289\tactual memory usage for states\n",
            "  128.000\tmemory used for hash table (-w24)\n",
            "    0.534\tmemory used for DFS stack (-m10000)\n",
            "  128.730\ttotal actual memory usage\n",
            "\n",
            "\n",
            "unreached in proctype Writer\n",
            "\treaderswriters.pml:21, state 11, \"-end-\"\n",
            "\t(1 of 11 states)\n",
            "unreached in proctype Reader\n",
            "\treaderswriters.pml:44, state 29, \"-end-\"\n",
            "\t(1 of 29 states)\n",
            "\n",
            "pan: elapsed time 0 seconds\n"
          ]
        },
        {
          "output_type": "stream",
          "name": "stderr",
          "text": [
            "rm: cannot remove '*trail': No such file or directory\n"
          ]
        }
      ]
    },
    {
      "cell_type": "code",
      "source": [
        "%%file philosophers.pml\n",
        "#define grab(s) atomic { (s) > 0 -> s = s - 1 }\n",
        "#define drop(s) s = s + 1\n",
        "\n",
        "\n",
        "byte forks[5] = { 1 }\n",
        "\n",
        "active[5] proctype Philosopher() {\n",
        "    byte i = _pid\n",
        "    do\n",
        "    :: \n",
        "      // think\n",
        "      grab(forks[i])\n",
        "      grab(forks[(i + 1) % 5])\n",
        "      // eat\n",
        "      drop(forks[i])\n",
        "      drop(forks[(i + 1) % 5])\n",
        "    od\n",
        "}"
      ],
      "metadata": {
        "colab": {
          "base_uri": "https://localhost:8080/"
        },
        "id": "hyVl4oc88kBk",
        "outputId": "47646c5c-d303-455e-9578-fd75327be3a4"
      },
      "execution_count": 132,
      "outputs": [
        {
          "output_type": "stream",
          "name": "stdout",
          "text": [
            "Overwriting philosophers.pml\n"
          ]
        }
      ]
    },
    {
      "cell_type": "code",
      "source": [
        "%%bash\n",
        "FILE=philosophers.pml\n",
        "rm pan*\n",
        "rm *trail\n",
        "spin -a $FILE && gcc pan.c && ./a.out\n",
        "[ -f $FILE.trail ] && spin -t $FILE"
      ],
      "metadata": {
        "colab": {
          "base_uri": "https://localhost:8080/"
        },
        "id": "e9AfFNsEBcWE",
        "outputId": "f41443ac-af03-45ef-b87a-ce11766ea1c1"
      },
      "execution_count": 133,
      "outputs": [
        {
          "output_type": "stream",
          "name": "stdout",
          "text": [
            "pan:1: invalid end state (at depth 56)\n",
            "pan: wrote philosophers.pml.trail\n",
            "\n",
            "(Spin Version 6.4.6 -- 2 December 2016)\n",
            "Warning: Search not completed\n",
            "\t+ Partial Order Reduction\n",
            "\n",
            "Full statespace search for:\n",
            "\tnever claim         \t- (none specified)\n",
            "\tassertion violations\t+\n",
            "\tacceptance   cycles \t- (not selected)\n",
            "\tinvalid end states\t+\n",
            "\n",
            "State-vector 52 byte, depth reached 57, errors: 1\n",
            "       58 states, stored\n",
            "       16 states, matched\n",
            "       74 transitions (= stored+matched)\n",
            "        0 atomic steps\n",
            "hash conflicts:         0 (resolved)\n",
            "\n",
            "Stats on memory usage (in Megabytes):\n",
            "    0.004\tequivalent memory usage for states (stored*(State-vector + overhead))\n",
            "    0.291\tactual memory usage for states\n",
            "  128.000\tmemory used for hash table (-w24)\n",
            "    0.534\tmemory used for DFS stack (-m10000)\n",
            "  128.730\ttotal actual memory usage\n",
            "\n",
            "\n",
            "\n",
            "pan: elapsed time 0 seconds\n",
            "spin: trail ends after 57 steps\n",
            "#processes: 5\n",
            "\t\tforks[0] = 0\n",
            "\t\tforks[1] = 0\n",
            "\t\tforks[2] = 0\n",
            "\t\tforks[3] = 0\n",
            "\t\tforks[4] = 0\n",
            " 57:\tproc  4 (Philosopher:1) philosophers.pml:13 (state 6)\n",
            " 57:\tproc  3 (Philosopher:1) philosophers.pml:13 (state 6)\n",
            " 57:\tproc  2 (Philosopher:1) philosophers.pml:13 (state 6)\n",
            " 57:\tproc  1 (Philosopher:1) philosophers.pml:13 (state 6)\n",
            " 57:\tproc  0 (Philosopher:1) philosophers.pml:13 (state 6)\n",
            "5 processes created\n"
          ]
        },
        {
          "output_type": "stream",
          "name": "stderr",
          "text": [
            "rm: cannot remove '*trail': No such file or directory\n"
          ]
        }
      ]
    },
    {
      "cell_type": "code",
      "source": [
        "%%file philosophers2.pml\n",
        "#define grab(s) atomic { (s) > 0 -> s = s - 1 }\n",
        "#define drop(s) s = s + 1\n",
        "\n",
        "\n",
        "byte forks[5] = { 1 }\n",
        "\n",
        "active[4] proctype Philosopher() {\n",
        "    byte i = _pid\n",
        "    do\n",
        "    :: \n",
        "      // think\n",
        "      grab(forks[i])\n",
        "      grab(forks[i+1])\n",
        "      // eat\n",
        "      drop(forks[i])\n",
        "      drop(forks[i+1])\n",
        "    od\n",
        "}\n",
        "active proctype LeftyPhilosopher() {\n",
        "    byte i = _pid\n",
        "    do\n",
        "    :: \n",
        "      // think\n",
        "      grab(forks[0])\n",
        "      grab(forks[4])\n",
        "      // eat\n",
        "      drop(forks[0])\n",
        "      drop(forks[4])\n",
        "    od\n",
        "}"
      ],
      "metadata": {
        "colab": {
          "base_uri": "https://localhost:8080/"
        },
        "id": "ERJRws5XBiaV",
        "outputId": "ed8205fc-d0d0-4cce-a16a-f43390bc5d2f"
      },
      "execution_count": 130,
      "outputs": [
        {
          "output_type": "stream",
          "name": "stdout",
          "text": [
            "Overwriting philosophers2.pml\n"
          ]
        }
      ]
    },
    {
      "cell_type": "code",
      "source": [
        "%%bash\n",
        "FILE=philosophers2.pml\n",
        "rm pan*\n",
        "rm *trail\n",
        "spin -a $FILE && gcc pan.c && ./a.out\n",
        "[ -f $FILE.trail ] && spin -t $FILE"
      ],
      "metadata": {
        "colab": {
          "base_uri": "https://localhost:8080/"
        },
        "id": "tu2n6k10DD0k",
        "outputId": "7de2375a-7981-4670-92f4-de3041713b7d"
      },
      "execution_count": 131,
      "outputs": [
        {
          "output_type": "stream",
          "name": "stdout",
          "text": [
            "\n",
            "(Spin Version 6.4.6 -- 2 December 2016)\n",
            "\t+ Partial Order Reduction\n",
            "\n",
            "Full statespace search for:\n",
            "\tnever claim         \t- (none specified)\n",
            "\tassertion violations\t+\n",
            "\tacceptance   cycles \t- (not selected)\n",
            "\tinvalid end states\t+\n",
            "\n",
            "State-vector 52 byte, depth reached 174, errors: 0\n",
            "      243 states, stored\n",
            "      568 states, matched\n",
            "      811 transitions (= stored+matched)\n",
            "        0 atomic steps\n",
            "hash conflicts:         0 (resolved)\n",
            "\n",
            "Stats on memory usage (in Megabytes):\n",
            "    0.019\tequivalent memory usage for states (stored*(State-vector + overhead))\n",
            "    0.290\tactual memory usage for states\n",
            "  128.000\tmemory used for hash table (-w24)\n",
            "    0.534\tmemory used for DFS stack (-m10000)\n",
            "  128.730\ttotal actual memory usage\n",
            "\n",
            "\n",
            "unreached in proctype Philosopher\n",
            "\tphilosophers2.pml:18, state 12, \"-end-\"\n",
            "\t(1 of 12 states)\n",
            "unreached in proctype LeftyPhilosopher\n",
            "\tphilosophers2.pml:30, state 12, \"-end-\"\n",
            "\t(1 of 12 states)\n",
            "\n",
            "pan: elapsed time 0 seconds\n"
          ]
        }
      ]
    },
    {
      "cell_type": "code",
      "source": [
        ""
      ],
      "metadata": {
        "id": "WCcxjQRiDJpL"
      },
      "execution_count": null,
      "outputs": []
    }
  ]
}