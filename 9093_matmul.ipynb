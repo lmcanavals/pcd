{
  "nbformat": 4,
  "nbformat_minor": 0,
  "metadata": {
    "colab": {
      "name": "9093-matmul.ipynb",
      "provenance": [],
      "authorship_tag": "ABX9TyMrPtYieEY+pw2QZY5lVwvd",
      "include_colab_link": true
    },
    "kernelspec": {
      "name": "python3",
      "display_name": "Python 3"
    },
    "language_info": {
      "name": "python"
    }
  },
  "cells": [
    {
      "cell_type": "markdown",
      "metadata": {
        "id": "view-in-github",
        "colab_type": "text"
      },
      "source": [
        "<a href=\"https://colab.research.google.com/github/lmcanavals/pcd/blob/master/9093_matmul.ipynb\" target=\"_parent\"><img src=\"https://colab.research.google.com/assets/colab-badge.svg\" alt=\"Open In Colab\"/></a>"
      ]
    },
    {
      "cell_type": "code",
      "execution_count": null,
      "metadata": {
        "id": "F4PYUiCqGxqG"
      },
      "outputs": [],
      "source": [
        "!apt install golang-go"
      ]
    },
    {
      "cell_type": "code",
      "source": [
        "%%file matmul.go\n",
        "package main\n",
        "\n",
        "import (\n",
        "    \"fmt\"\n",
        ")\n",
        "\n",
        "var end chan bool\n",
        "\n",
        "func source(row []float64, south chan float64) {\n",
        "    for _, val := range row {\n",
        "        south<- val\n",
        "    }\n",
        "    close(south)\n",
        "}\n",
        "\n",
        "func zero(n int, west chan float64) {\n",
        "   for i := 0; i < n; i++ {\n",
        "       west<- 0.0\n",
        "   } \n",
        "   close(west)\n",
        "}\n",
        "\n",
        "func sink(north chan float64) {\n",
        "    for _ = range north {\n",
        "        \n",
        "    }\n",
        "}\n",
        "\n",
        "func result(c [][]float64, i int, east chan float64) {\n",
        "    j := 0\n",
        "    for val := range east {\n",
        "      c[i][j] = val\n",
        "      j++\n",
        "    }\n",
        "    end<- true\n",
        "}\n",
        "\n",
        "func mult(firstElement float64, north, east, south, west chan float64) {\n",
        "    for secondElement := range north {\n",
        "        sum := <- east\n",
        "        sum += firstElement * secondElement\n",
        "        south <- secondElement\n",
        "        west <- sum\n",
        "    }\n",
        "    close(south)\n",
        "    close(west)\n",
        "}\n",
        "\n",
        "func main() {\n",
        "    a := [][]float64{{1, 2, 3},\n",
        "                     {4, 5, 6},\n",
        "                     {7, 8, 9}}\n",
        "    b := [][]float64{{1, 0, 2},\n",
        "                     {0, 1, 2},\n",
        "                     {1, 0, 0}}\n",
        "    rowsa := len(a)\n",
        "    colsa := len(a[0])\n",
        "    colsb := len(b[0])\n",
        "\n",
        "    end = make(chan bool)\n",
        "\n",
        "    c := make([][]float64, rowsa)\n",
        "    for i := range c {\n",
        "        c[i] = make([]float64, colsb)\n",
        "    }\n",
        "\n",
        "    // creating channels\n",
        "    h := make([][]chan float64, rowsa)\n",
        "    for i := range h {\n",
        "        h[i] = make([]chan float64, colsa + 1)\n",
        "        for j := range h[i] {\n",
        "            h[i][j] = make(chan float64)\n",
        "        }\n",
        "    }\n",
        "    v := make([][]chan float64, rowsa + 1)\n",
        "    for i := range v {\n",
        "        v[i] = make([]chan float64, colsa)\n",
        "        for j := range v[i] {\n",
        "            v[i][j] = make(chan float64)\n",
        "        }\n",
        "    }\n",
        "\n",
        "    for i := range b {\n",
        "        go source(b[i], v[0][i])\n",
        "        go sink(v[rowsa][i])\n",
        "    }\n",
        "    for i := range a {\n",
        "        go zero(colsb, h[i][colsa])\n",
        "        go result(c, i, h[i][0])\n",
        "    }\n",
        "    for i := range a {\n",
        "        for j := range b {\n",
        "            go mult(a[i][j], v[i][j], h[i][j + 1], v[i + 1][j], h[i][j])\n",
        "        }\n",
        "    }\n",
        "    for _ = range a {\n",
        "      <- end\n",
        "    }\n",
        "    fmt.Println(c)\n",
        "}"
      ],
      "metadata": {
        "colab": {
          "base_uri": "https://localhost:8080/"
        },
        "id": "3McuwS1_Gyyw",
        "outputId": "f726b614-aef7-4f1b-84d0-ab6ec100a28e"
      },
      "execution_count": null,
      "outputs": [
        {
          "output_type": "stream",
          "name": "stdout",
          "text": [
            "Overwriting matmul.go\n"
          ]
        }
      ]
    },
    {
      "cell_type": "code",
      "source": [
        "!go run matmul.go"
      ],
      "metadata": {
        "colab": {
          "base_uri": "https://localhost:8080/"
        },
        "id": "hLOIc7keNTDI",
        "outputId": "9f4c6737-4f96-4f42-b0cc-1edff9745ff0"
      },
      "execution_count": null,
      "outputs": [
        {
          "output_type": "stream",
          "name": "stdout",
          "text": [
            "[[4 2 6] [10 5 18] [16 8 30]]\n"
          ]
        }
      ]
    },
    {
      "cell_type": "code",
      "source": [
        "import numpy as np\n",
        "a = np.array([i for i in range(1, 10)]).reshape((3, 3))\n",
        "b = np.array([1,0, 2,0, 1, 2, 1 ,0, 0]).reshape((3, 3))\n",
        "print(np.matmul(a, b))"
      ],
      "metadata": {
        "colab": {
          "base_uri": "https://localhost:8080/"
        },
        "id": "6xUBhpRdNaoG",
        "outputId": "13cc3ee0-6022-43cc-bdb6-374efd0e2ca2"
      },
      "execution_count": null,
      "outputs": [
        {
          "output_type": "stream",
          "name": "stdout",
          "text": [
            "[[ 4  2  6]\n",
            " [10  5 18]\n",
            " [16  8 30]]\n"
          ]
        }
      ]
    },
    {
      "cell_type": "code",
      "source": [
        ""
      ],
      "metadata": {
        "id": "NNfmzMaYPUXi"
      },
      "execution_count": null,
      "outputs": []
    }
  ]
}