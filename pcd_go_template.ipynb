{
  "nbformat": 4,
  "nbformat_minor": 0,
  "metadata": {
    "colab": {
      "name": "pcd go template.ipynb",
      "provenance": [],
      "authorship_tag": "ABX9TyP7ZWwAyKwFVfY87sL9NggW",
      "include_colab_link": true
    },
    "kernelspec": {
      "name": "python3",
      "display_name": "Python 3"
    }
  },
  "cells": [
    {
      "cell_type": "markdown",
      "metadata": {
        "id": "view-in-github",
        "colab_type": "text"
      },
      "source": [
        "<a href=\"https://colab.research.google.com/github/pcsilcan/pcd/blob/master/pcd_go_template.ipynb\" target=\"_parent\"><img src=\"https://colab.research.google.com/assets/colab-badge.svg\" alt=\"Open In Colab\"/></a>"
      ]
    },
    {
      "cell_type": "markdown",
      "metadata": {
        "id": "PYpneKm7Y1Fd"
      },
      "source": [
        "# Instalando GO y Spin"
      ]
    },
    {
      "cell_type": "code",
      "metadata": {
        "id": "5BIx-cU1XrtM",
        "outputId": "5f4107ba-6fcd-46b1-9317-10ba4e34092d",
        "colab": {
          "base_uri": "https://localhost:8080/",
          "height": 107
        }
      },
      "source": [
        "!apt install golang-go spin 1> /dev/null && go version && spin -V"
      ],
      "execution_count": null,
      "outputs": [
        {
          "output_type": "stream",
          "text": [
            "\n",
            "WARNING: apt does not have a stable CLI interface. Use with caution in scripts.\n",
            "\n",
            "go version go1.10.4 linux/amd64\n",
            "Spin Version 6.4.6 -- 2 December 2016\n"
          ],
          "name": "stdout"
        }
      ]
    },
    {
      "cell_type": "code",
      "metadata": {
        "id": "wFdmAjBFosHr",
        "outputId": "9683a781-0236-4dd3-f9ee-2e1007119222",
        "colab": {
          "base_uri": "https://localhost:8080/",
          "height": 35
        }
      },
      "source": [
        "%%writefile 1.go\n",
        "package main\n",
        "\n",
        "import (\n",
        "    \"fmt\"\n",
        ")\n",
        "\n",
        "func main() {\n",
        "    var x int\n",
        "    var y string\n",
        "    fmt.Println(\"Reading some data\")\n",
        "    fmt.Scanf(\"%d\", &x)\n",
        "    fmt.Scanf(\"%s\", &y)\n",
        "\n",
        "    fmt.Printf(\"What you entered: %d %s\\n\", x, y)\n",
        "}"
      ],
      "execution_count": null,
      "outputs": [
        {
          "output_type": "stream",
          "text": [
            "Writing 1.go\n"
          ],
          "name": "stdout"
        }
      ]
    },
    {
      "cell_type": "code",
      "metadata": {
        "id": "WLlgKuVGp8nW",
        "outputId": "8a1ca0dd-e950-419d-fb5e-bebc86ccc755",
        "colab": {
          "base_uri": "https://localhost:8080/",
          "height": 35
        }
      },
      "source": [
        "%%writefile input.file\n",
        "1981\n",
        "Holaaaa"
      ],
      "execution_count": null,
      "outputs": [
        {
          "output_type": "stream",
          "text": [
            "Writing input.file\n"
          ],
          "name": "stdout"
        }
      ]
    },
    {
      "cell_type": "code",
      "metadata": {
        "id": "6MdIvH1dqIGZ",
        "outputId": "b847ae6c-023e-43b3-e031-a48ba1536bff",
        "colab": {
          "base_uri": "https://localhost:8080/",
          "height": 53
        }
      },
      "source": [
        "!go run 1.go < input.file"
      ],
      "execution_count": null,
      "outputs": [
        {
          "output_type": "stream",
          "text": [
            "Reading some data\n",
            "What you entered: 1981 Holaaaa\n"
          ],
          "name": "stdout"
        }
      ]
    },
    {
      "cell_type": "markdown",
      "metadata": {
        "id": "X3mT6Hz0qP0n"
      },
      "source": [
        "Como se muestra en el ejemplo anterior, si necesitamos leer datos de Standard Input (stdin) en Colab, redireccionaremos de un archivo de texto."
      ]
    },
    {
      "cell_type": "code",
      "metadata": {
        "id": "Lr_qU4pAqKr9"
      },
      "source": [
        ""
      ],
      "execution_count": null,
      "outputs": []
    }
  ]
}