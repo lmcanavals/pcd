{
  "nbformat": 4,
  "nbformat_minor": 0,
  "metadata": {
    "colab": {
      "name": "0601-producers-consumers.ipynb",
      "provenance": [],
      "authorship_tag": "ABX9TyN/5g+0bvRdxS5zzukeMLPB",
      "include_colab_link": true
    },
    "kernelspec": {
      "name": "python3",
      "display_name": "Python 3"
    },
    "language_info": {
      "name": "python"
    }
  },
  "cells": [
    {
      "cell_type": "markdown",
      "metadata": {
        "id": "view-in-github",
        "colab_type": "text"
      },
      "source": [
        "<a href=\"https://colab.research.google.com/github/lmcanavals/pcd/blob/master/0601_producers_consumers.ipynb\" target=\"_parent\"><img src=\"https://colab.research.google.com/assets/colab-badge.svg\" alt=\"Open In Colab\"/></a>"
      ]
    },
    {
      "cell_type": "code",
      "execution_count": null,
      "metadata": {
        "id": "7pUbpDvwEjXH"
      },
      "outputs": [],
      "source": [
        "!sudo apt install spin"
      ]
    },
    {
      "cell_type": "markdown",
      "source": [
        "# Producers and Consumers"
      ],
      "metadata": {
        "id": "5-vMM7qEExwG"
      }
    },
    {
      "cell_type": "code",
      "source": [
        "%%file prodcons1.pml\n",
        "#define wait(s) atomic { s > 0 -> s-- }\n",
        "#define signal(s) s++\n",
        "\n",
        "int buffer[5]\n",
        "int n = 0\n",
        "\n",
        "byte notEmpty = 0         // semaphore\n",
        "\n",
        "inline append(d) {\n",
        "    assert n < 5\n",
        "    atomic {\n",
        "        buffer[n] = d\n",
        "        n++\n",
        "    }\n",
        "}\n",
        "\n",
        "inline take(d) {\n",
        "    assert n > 0\n",
        "    atomic {\n",
        "        n--\n",
        "        d = buffer[n]\n",
        "    }\n",
        "}\n",
        "\n",
        "active proctype Producer() {\n",
        "    int d\n",
        "    do\n",
        "    ::\n",
        "      // produce\n",
        "      append(d)\n",
        "      signal(notEmpty)\n",
        "    od\n",
        "}\n",
        "\n",
        "active[5] proctype Consumer() {\n",
        "    int d\n",
        "    do\n",
        "    ::\n",
        "      wait(notEmpty)\n",
        "      take(d)\n",
        "      // consume\n",
        "    od\n",
        "}\n"
      ],
      "metadata": {
        "colab": {
          "base_uri": "https://localhost:8080/"
        },
        "id": "UxjD26CKEvtl",
        "outputId": "0e9e01d7-a67a-498b-f787-4e67796c7e77"
      },
      "execution_count": null,
      "outputs": [
        {
          "output_type": "stream",
          "name": "stdout",
          "text": [
            "Overwriting prodcons1.pml\n"
          ]
        }
      ]
    },
    {
      "cell_type": "code",
      "source": [
        "!spin prodcons1.pml"
      ],
      "metadata": {
        "colab": {
          "base_uri": "https://localhost:8080/"
        },
        "id": "EsDAForeHFWx",
        "outputId": "2742161d-f081-4f66-c08a-9885f59d3eb1"
      },
      "execution_count": null,
      "outputs": [
        {
          "output_type": "stream",
          "name": "stdout",
          "text": [
            "spin: prodcons1.pml:10, Error: assertion violated\n",
            "spin: text of failed assertion: assert((n<5))\n",
            "#processes: 6\n",
            "\t\tbuffer[0] = 0\n",
            "\t\tbuffer[1] = 0\n",
            "\t\tbuffer[2] = 0\n",
            "\t\tbuffer[3] = 0\n",
            "\t\tbuffer[4] = 0\n",
            "\t\tn = 5\n",
            "\t\tnotEmpty = 1\n",
            "140295600:\tproc  5 (Consumer:1) prodcons1.pml:19 (state 7)\n",
            "140295600:\tproc  4 (Consumer:1) prodcons1.pml:19 (state 7)\n",
            "140295600:\tproc  3 (Consumer:1) prodcons1.pml:19 (state 7)\n",
            "140295600:\tproc  2 (Consumer:1) prodcons1.pml:19 (state 7)\n",
            "140295600:\tproc  1 (Consumer:1) prodcons1.pml:37 (state 9)\n",
            "140295600:\tproc  0 (Producer:1) prodcons1.pml:27 (state 7)\n",
            "6 processes created\n"
          ]
        }
      ]
    },
    {
      "cell_type": "code",
      "source": [
        "%%bash\n",
        "rm *.trail pan.*\n",
        "FILE=prodcons1.pml\n",
        "spin -a $FILE && gcc pan.c && ./a.out\n",
        "[ -f $FILE.trail ] && spin -t $FILE"
      ],
      "metadata": {
        "colab": {
          "base_uri": "https://localhost:8080/"
        },
        "id": "xHRvIid8HSjJ",
        "outputId": "09016965-c3ba-4a92-a848-9dd3c9a6b62a"
      },
      "execution_count": null,
      "outputs": [
        {
          "output_type": "stream",
          "name": "stdout",
          "text": [
            "pan:1: assertion violated (n<5) (at depth 181)\n",
            "pan: wrote prodcons1.pml.trail\n",
            "\n",
            "(Spin Version 6.4.6 -- 2 December 2016)\n",
            "Warning: Search not completed\n",
            "\t+ Partial Order Reduction\n",
            "\n",
            "Full statespace search for:\n",
            "\tnever claim         \t- (none specified)\n",
            "\tassertion violations\t+\n",
            "\tacceptance   cycles \t- (not selected)\n",
            "\tinvalid end states\t+\n",
            "\n",
            "State-vector 88 byte, depth reached 181, errors: 1\n",
            "      182 states, stored\n",
            "      256 states, matched\n",
            "      438 transitions (= stored+matched)\n",
            "        0 atomic steps\n",
            "hash conflicts:         0 (resolved)\n",
            "\n",
            "Stats on memory usage (in Megabytes):\n",
            "    0.020\tequivalent memory usage for states (stored*(State-vector + overhead))\n",
            "    0.290\tactual memory usage for states\n",
            "  128.000\tmemory used for hash table (-w24)\n",
            "    0.534\tmemory used for DFS stack (-m10000)\n",
            "  128.730\ttotal actual memory usage\n",
            "\n",
            "\n",
            "\n",
            "pan: elapsed time 0 seconds\n",
            "spin: prodcons1.pml:10, Error: assertion violated\n",
            "spin: text of failed assertion: assert((n<5))\n",
            "spin: trail ends after 182 steps\n",
            "#processes: 6\n",
            "\t\tbuffer[0] = 0\n",
            "\t\tbuffer[1] = 0\n",
            "\t\tbuffer[2] = 0\n",
            "\t\tbuffer[3] = 0\n",
            "\t\tbuffer[4] = 0\n",
            "\t\tn = 5\n",
            "\t\tnotEmpty = 0\n",
            "182:\tproc  5 (Consumer:1) prodcons1.pml:19 (state 7)\n",
            "182:\tproc  4 (Consumer:1) prodcons1.pml:19 (state 7)\n",
            "182:\tproc  3 (Consumer:1) prodcons1.pml:19 (state 7)\n",
            "182:\tproc  2 (Consumer:1) prodcons1.pml:19 (state 7)\n",
            "182:\tproc  1 (Consumer:1) prodcons1.pml:19 (state 7)\n",
            "182:\tproc  0 (Producer:1) prodcons1.pml:11 (state 4)\n",
            "6 processes created\n"
          ]
        },
        {
          "output_type": "stream",
          "name": "stderr",
          "text": [
            "rm: cannot remove '*.trail': No such file or directory\n",
            "rm: cannot remove 'pan.*': No such file or directory\n"
          ]
        }
      ]
    },
    {
      "cell_type": "code",
      "source": [
        "%%file prodcons2.pml\n",
        "#define wait(s) atomic { s > 0 -> s-- }\n",
        "#define signal(s) s++\n",
        "\n",
        "int buffer[5]\n",
        "int n = 0\n",
        "\n",
        "byte notEmpty = 0         // semaphores\n",
        "byte notFull = 5\n",
        "\n",
        "inline append(d) {\n",
        "    assert n < 5\n",
        "    atomic {\n",
        "        buffer[n] = d\n",
        "        n++\n",
        "    }\n",
        "}\n",
        "\n",
        "inline take(d) {\n",
        "    assert n > 0\n",
        "    atomic {\n",
        "        n--\n",
        "        d = buffer[n]\n",
        "    }\n",
        "}\n",
        "\n",
        "active proctype Producer() {\n",
        "    int d\n",
        "    do\n",
        "    ::\n",
        "      // produce\n",
        "      wait(notFull)\n",
        "      append(d)\n",
        "      signal(notEmpty)\n",
        "    od\n",
        "}\n",
        "\n",
        "active[5] proctype Consumer() {\n",
        "    int d\n",
        "    do\n",
        "    ::\n",
        "      wait(notEmpty)\n",
        "      take(d)\n",
        "      signal(notFull)\n",
        "      // consume\n",
        "    od\n",
        "}\n"
      ],
      "metadata": {
        "colab": {
          "base_uri": "https://localhost:8080/"
        },
        "id": "5qrg6fdjIV6p",
        "outputId": "3cdafeba-2a5a-4ff1-d5c5-28c59e93d74d"
      },
      "execution_count": null,
      "outputs": [
        {
          "output_type": "stream",
          "name": "stdout",
          "text": [
            "Writing prodcons2.pml\n"
          ]
        }
      ]
    },
    {
      "cell_type": "code",
      "source": [
        "%%bash\n",
        "rm *.trail pan.*\n",
        "FILE=prodcons2.pml\n",
        "spin -a $FILE && gcc pan.c && ./a.out\n",
        "[ -f $FILE.trail ] && spin -t $FILE"
      ],
      "metadata": {
        "colab": {
          "base_uri": "https://localhost:8080/"
        },
        "id": "OxgigoRXJY7r",
        "outputId": "c2693688-f1db-4bc4-84b6-2db6c8736760"
      },
      "execution_count": null,
      "outputs": [
        {
          "output_type": "stream",
          "name": "stdout",
          "text": [
            "\n",
            "(Spin Version 6.4.6 -- 2 December 2016)\n",
            "\t+ Partial Order Reduction\n",
            "\n",
            "Full statespace search for:\n",
            "\tnever claim         \t- (none specified)\n",
            "\tassertion violations\t+\n",
            "\tacceptance   cycles \t- (not selected)\n",
            "\tinvalid end states\t+\n",
            "\n",
            "State-vector 88 byte, depth reached 4363, errors: 0\n",
            "     6144 states, stored\n",
            "    24577 states, matched\n",
            "    30721 transitions (= stored+matched)\n",
            "        0 atomic steps\n",
            "hash conflicts:         0 (resolved)\n",
            "\n",
            "Stats on memory usage (in Megabytes):\n",
            "    0.680\tequivalent memory usage for states (stored*(State-vector + overhead))\n",
            "    0.876\tactual memory usage for states\n",
            "  128.000\tmemory used for hash table (-w24)\n",
            "    0.534\tmemory used for DFS stack (-m10000)\n",
            "  129.315\ttotal actual memory usage\n",
            "\n",
            "\n",
            "unreached in proctype Producer\n",
            "\tprodcons2.pml:35, state 13, \"-end-\"\n",
            "\t(1 of 13 states)\n",
            "unreached in proctype Consumer\n",
            "\tprodcons2.pml:46, state 13, \"-end-\"\n",
            "\t(1 of 13 states)\n",
            "\n",
            "pan: elapsed time 0.02 seconds\n",
            "pan: rate    307200 states/second\n"
          ]
        }
      ]
    },
    {
      "cell_type": "code",
      "source": [
        ""
      ],
      "metadata": {
        "id": "N_Lkn56oJgtg"
      },
      "execution_count": null,
      "outputs": []
    }
  ]
}